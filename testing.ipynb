{
 "cells": [
  {
   "cell_type": "code",
   "execution_count": 18,
   "metadata": {},
   "outputs": [
    {
     "name": "stdout",
     "output_type": "stream",
     "text": [
      "1\n"
     ]
    }
   ],
   "source": [
    "import numpy as np\n",
    "import itertools\n",
    "import matplotlib.pyplot as plt\n",
    "import networkx as nx\n",
    "import matplotlib.tri as mtri\n",
    "from  io import StringIO\n",
    "a = [1]\n",
    "\n",
    "print(np.prod(a))"
   ]
  },
  {
   "cell_type": "code",
   "execution_count": 19,
   "metadata": {},
   "outputs": [
    {
     "name": "stdout",
     "output_type": "stream",
     "text": [
      "13\n"
     ]
    }
   ],
   "source": [
    "class test:\n",
    "    def __init__(self, a=3, b=4):\n",
    "        self.a = a\n",
    "        self.b = b\n",
    "        self.c = self.add()\n",
    "    \n",
    "    def add(self):\n",
    "        return self.a + self.b\n",
    "\n",
    "class d:\n",
    "    def __init__(self, f):\n",
    "        self.f = f\n",
    "\n",
    "\n",
    "t = test(b=10)\n",
    "print(t.c)"
   ]
  },
  {
   "cell_type": "code",
   "execution_count": 20,
   "metadata": {},
   "outputs": [
    {
     "name": "stdout",
     "output_type": "stream",
     "text": [
      "0\n",
      "3\n",
      "3\n",
      "3\n",
      "3\n",
      "3\n",
      "3\n",
      "3\n",
      "3\n",
      "3\n",
      "3\n",
      "3\n",
      "3\n",
      "3\n",
      "3\n",
      "3\n",
      "3\n",
      "3\n",
      "3\n",
      "3\n",
      "3\n",
      "3\n",
      "3\n",
      "3\n",
      "3\n",
      "3\n",
      "3\n",
      "3\n",
      "3\n",
      "3\n",
      "3\n",
      "3\n",
      "3\n",
      "3\n",
      "3\n",
      "3\n",
      "3\n",
      "3\n",
      "3\n",
      "3\n",
      "3\n",
      "3\n",
      "3\n",
      "3\n",
      "3\n",
      "3\n",
      "3\n",
      "3\n",
      "3\n",
      "3\n",
      "3\n",
      "3\n",
      "3\n",
      "3\n",
      "3\n",
      "3\n",
      "3\n",
      "3\n",
      "3\n",
      "3\n",
      "3\n",
      "3\n",
      "3\n",
      "3\n",
      "3\n",
      "3\n",
      "3\n",
      "3\n",
      "3\n",
      "3\n",
      "3\n",
      "3\n",
      "3\n",
      "3\n",
      "3\n",
      "3\n",
      "3\n",
      "3\n",
      "3\n",
      "3\n",
      "3\n",
      "3\n",
      "3\n",
      "3\n",
      "3\n",
      "3\n",
      "3\n",
      "3\n",
      "3\n",
      "3\n",
      "3\n",
      "3\n",
      "3\n",
      "3\n",
      "3\n",
      "3\n",
      "3\n",
      "3\n",
      "3\n",
      "3\n",
      "3\n"
     ]
    }
   ],
   "source": [
    "f = [test(0, 0)]*100\n",
    "\n",
    "print(f[50].c)\n",
    "\n",
    "f[50].c = 3\n",
    "\n",
    "for i in range(100):\n",
    "    print(f[i].c)\n",
    "\n",
    "\n"
   ]
  },
  {
   "cell_type": "code",
   "execution_count": 21,
   "metadata": {},
   "outputs": [
    {
     "name": "stdout",
     "output_type": "stream",
     "text": [
      "[4]\n",
      "<class 'numpy.int64'>\n"
     ]
    }
   ],
   "source": [
    "print(np.random.choice([1, 2, 3, 4], 1, [0.1, 0.2, 0.3, 0.4]))\n",
    "print(type(np.random.choice([1, 2, 3, 4], 1, [0.1, 0.2, 0.3, 0.4])[0]))"
   ]
  },
  {
   "cell_type": "code",
   "execution_count": 22,
   "metadata": {},
   "outputs": [
    {
     "name": "stdout",
     "output_type": "stream",
     "text": [
      "1\n"
     ]
    }
   ],
   "source": [
    "print(int(7/5))"
   ]
  },
  {
   "cell_type": "code",
   "execution_count": 23,
   "metadata": {},
   "outputs": [
    {
     "name": "stdout",
     "output_type": "stream",
     "text": [
      "[[-2, 5], [0, 1], [4, 2]]\n",
      "[-2, 5]\n",
      "9\n",
      "[[0, 1], [4, 2]]\n",
      "cool\n"
     ]
    }
   ],
   "source": [
    "test_list = [[0, 1], [-2, 5], [4, 2]]\n",
    "\n",
    "\n",
    "test_list.sort(key=lambda x: x[0])\n",
    "\n",
    "def f(k=3):\n",
    "    return print(k)\n",
    "\n",
    "\n",
    "print(test_list)\n",
    "\n",
    "o = []\n",
    "\n",
    "e = [[0, f], [0, f]]\n",
    "\n",
    "p = test_list[0]\n",
    "print(p)\n",
    "\n",
    "p = e[1]\n",
    "p[1](9)\n",
    "\n",
    "test_list.pop(0)\n",
    "\n",
    "print(test_list)\n",
    "\n",
    "if not o:\n",
    "    print(\"cool\")\n"
   ]
  },
  {
   "cell_type": "code",
   "execution_count": 24,
   "metadata": {},
   "outputs": [
    {
     "name": "stdout",
     "output_type": "stream",
     "text": [
      "[0, 2]\n",
      "[0, 1, 2]\n",
      "[[0, 2], [0, 1, 2]]\n"
     ]
    }
   ],
   "source": [
    "a = [[0, 2], [0, 1, 2]]\n",
    "a1 = a[0]\n",
    "a2 = a[1]\n",
    "print(a1)\n",
    "a1, a2 = a2, a1\n",
    "print(a1)\n",
    "print(a)"
   ]
  },
  {
   "cell_type": "code",
   "execution_count": 25,
   "metadata": {},
   "outputs": [
    {
     "name": "stdout",
     "output_type": "stream",
     "text": [
      "2\n"
     ]
    }
   ],
   "source": [
    "b = True\n",
    "k = 1\n",
    "print(b + k)"
   ]
  },
  {
   "cell_type": "code",
   "execution_count": 26,
   "metadata": {},
   "outputs": [
    {
     "name": "stdout",
     "output_type": "stream",
     "text": [
      "[1 2 3 4 5]\n"
     ]
    }
   ],
   "source": [
    "a = np.array([0, 1, 2, 3, 4, 5])\n",
    "b = np.array([1, 1, 1, 1, 1])\n",
    "\n",
    "print(a[0:len(b)]+b)\n",
    "\n"
   ]
  },
  {
   "cell_type": "code",
   "execution_count": 27,
   "metadata": {},
   "outputs": [
    {
     "data": {
      "text/plain": [
       "<BarContainer object of 8 artists>"
      ]
     },
     "execution_count": 27,
     "metadata": {},
     "output_type": "execute_result"
    },
    {
     "data": {
      "image/png": "[encoded data removed]",
      "text/plain": [
       "<Figure size 432x288 with 1 Axes>"
      ]
     },
     "metadata": {
      "needs_background": "light"
     },
     "output_type": "display_data"
    }
   ],
   "source": [
    "a = np.array([10, 0, 2, 3, 4, 12, 3, 5])\n",
    "b = np.array([1, 2, 3, 4, 5, 6, 7, 8])\n",
    "\n",
    "plt.bar(b, a, width=1)"
   ]
  },
  {
   "cell_type": "code",
   "execution_count": 28,
   "metadata": {},
   "outputs": [
    {
     "ename": "OSError",
     "evalue": "test.txt not found.",
     "output_type": "error",
     "traceback": [
      "\u001b[0;31m---------------------------------------------------------------------------\u001b[0m",
      "\u001b[0;31mOSError\u001b[0m                                   Traceback (most recent call last)",
      "\u001b[0;32m<ipython-input-28-84c5a423e841>\u001b[0m in \u001b[0;36m<module>\u001b[0;34m\u001b[0m\n\u001b[0;32m----> 1\u001b[0;31m \u001b[0mlines\u001b[0m \u001b[0;34m=\u001b[0m \u001b[0mnp\u001b[0m\u001b[0;34m.\u001b[0m\u001b[0mloadtxt\u001b[0m\u001b[0;34m(\u001b[0m\u001b[0;34m\"test.txt\"\u001b[0m\u001b[0;34m,\u001b[0m \u001b[0mdelimiter\u001b[0m\u001b[0;34m=\u001b[0m\u001b[0;34m\" \"\u001b[0m\u001b[0;34m)\u001b[0m\u001b[0;34m\u001b[0m\u001b[0;34m\u001b[0m\u001b[0m\n\u001b[0m\u001b[1;32m      2\u001b[0m \u001b[0mtotal\u001b[0m \u001b[0;34m=\u001b[0m \u001b[0mnp\u001b[0m\u001b[0;34m.\u001b[0m\u001b[0msum\u001b[0m\u001b[0;34m(\u001b[0m\u001b[0mlines\u001b[0m\u001b[0;34m[\u001b[0m\u001b[0;34m:\u001b[0m\u001b[0;34m:\u001b[0m\u001b[0;36m2\u001b[0m\u001b[0;34m]\u001b[0m\u001b[0;34m)\u001b[0m\u001b[0;34m\u001b[0m\u001b[0;34m\u001b[0m\u001b[0m\n\u001b[1;32m      3\u001b[0m \u001b[0mar\u001b[0m \u001b[0;34m=\u001b[0m \u001b[0mnp\u001b[0m\u001b[0;34m.\u001b[0m\u001b[0margwhere\u001b[0m\u001b[0;34m(\u001b[0m\u001b[0mlines\u001b[0m\u001b[0;34m[\u001b[0m\u001b[0;34m:\u001b[0m\u001b[0;34m:\u001b[0m\u001b[0;36m2\u001b[0m\u001b[0;34m]\u001b[0m \u001b[0;34m!=\u001b[0m \u001b[0;36m0\u001b[0m\u001b[0;34m)\u001b[0m\u001b[0;34m\u001b[0m\u001b[0;34m\u001b[0m\u001b[0m\n\u001b[1;32m      4\u001b[0m \u001b[0mfreq\u001b[0m \u001b[0;34m=\u001b[0m \u001b[0mlines\u001b[0m\u001b[0;34m[\u001b[0m\u001b[0mar\u001b[0m \u001b[0;34m*\u001b[0m \u001b[0;36m2\u001b[0m\u001b[0;34m]\u001b[0m \u001b[0;34m/\u001b[0m \u001b[0mtotal\u001b[0m\u001b[0;34m\u001b[0m\u001b[0;34m\u001b[0m\u001b[0m\n\u001b[1;32m      5\u001b[0m \u001b[0mprint\u001b[0m\u001b[0;34m(\u001b[0m\u001b[0mlines\u001b[0m\u001b[0;34m)\u001b[0m\u001b[0;34m\u001b[0m\u001b[0;34m\u001b[0m\u001b[0m\n",
      "\u001b[0;32m~/home/vetkje/anaconda/lib/python3.7/site-packages/numpy/lib/npyio.py\u001b[0m in \u001b[0;36mloadtxt\u001b[0;34m(fname, dtype, comments, delimiter, converters, skiprows, usecols, unpack, ndmin, encoding, max_rows)\u001b[0m\n\u001b[1;32m    979\u001b[0m             \u001b[0mfname\u001b[0m \u001b[0;34m=\u001b[0m \u001b[0mos_fspath\u001b[0m\u001b[0;34m(\u001b[0m\u001b[0mfname\u001b[0m\u001b[0;34m)\u001b[0m\u001b[0;34m\u001b[0m\u001b[0;34m\u001b[0m\u001b[0m\n\u001b[1;32m    980\u001b[0m         \u001b[0;32mif\u001b[0m \u001b[0m_is_string_like\u001b[0m\u001b[0;34m(\u001b[0m\u001b[0mfname\u001b[0m\u001b[0;34m)\u001b[0m\u001b[0;34m:\u001b[0m\u001b[0;34m\u001b[0m\u001b[0;34m\u001b[0m\u001b[0m\n\u001b[0;32m--> 981\u001b[0;31m             \u001b[0mfh\u001b[0m \u001b[0;34m=\u001b[0m \u001b[0mnp\u001b[0m\u001b[0;34m.\u001b[0m\u001b[0mlib\u001b[0m\u001b[0;34m.\u001b[0m\u001b[0m_datasource\u001b[0m\u001b[0;34m.\u001b[0m\u001b[0mopen\u001b[0m\u001b[0;34m(\u001b[0m\u001b[0mfname\u001b[0m\u001b[0;34m,\u001b[0m \u001b[0;34m'rt'\u001b[0m\u001b[0;34m,\u001b[0m \u001b[0mencoding\u001b[0m\u001b[0;34m=\u001b[0m\u001b[0mencoding\u001b[0m\u001b[0;34m)\u001b[0m\u001b[0;34m\u001b[0m\u001b[0;34m\u001b[0m\u001b[0m\n\u001b[0m\u001b[1;32m    982\u001b[0m             \u001b[0mfencoding\u001b[0m \u001b[0;34m=\u001b[0m \u001b[0mgetattr\u001b[0m\u001b[0;34m(\u001b[0m\u001b[0mfh\u001b[0m\u001b[0;34m,\u001b[0m \u001b[0;34m'encoding'\u001b[0m\u001b[0;34m,\u001b[0m \u001b[0;34m'latin1'\u001b[0m\u001b[0;34m)\u001b[0m\u001b[0;34m\u001b[0m\u001b[0;34m\u001b[0m\u001b[0m\n\u001b[1;32m    983\u001b[0m             \u001b[0mfh\u001b[0m \u001b[0;34m=\u001b[0m \u001b[0miter\u001b[0m\u001b[0;34m(\u001b[0m\u001b[0mfh\u001b[0m\u001b[0;34m)\u001b[0m\u001b[0;34m\u001b[0m\u001b[0;34m\u001b[0m\u001b[0m\n",
      "\u001b[0;32m~/home/vetkje/anaconda/lib/python3.7/site-packages/numpy/lib/_datasource.py\u001b[0m in \u001b[0;36mopen\u001b[0;34m(path, mode, destpath, encoding, newline)\u001b[0m\n\u001b[1;32m    267\u001b[0m \u001b[0;34m\u001b[0m\u001b[0m\n\u001b[1;32m    268\u001b[0m     \u001b[0mds\u001b[0m \u001b[0;34m=\u001b[0m \u001b[0mDataSource\u001b[0m\u001b[0;34m(\u001b[0m\u001b[0mdestpath\u001b[0m\u001b[0;34m)\u001b[0m\u001b[0;34m\u001b[0m\u001b[0;34m\u001b[0m\u001b[0m\n\u001b[0;32m--> 269\u001b[0;31m     \u001b[0;32mreturn\u001b[0m \u001b[0mds\u001b[0m\u001b[0;34m.\u001b[0m\u001b[0mopen\u001b[0m\u001b[0;34m(\u001b[0m\u001b[0mpath\u001b[0m\u001b[0;34m,\u001b[0m \u001b[0mmode\u001b[0m\u001b[0;34m,\u001b[0m \u001b[0mencoding\u001b[0m\u001b[0;34m=\u001b[0m\u001b[0mencoding\u001b[0m\u001b[0;34m,\u001b[0m \u001b[0mnewline\u001b[0m\u001b[0;34m=\u001b[0m\u001b[0mnewline\u001b[0m\u001b[0;34m)\u001b[0m\u001b[0;34m\u001b[0m\u001b[0;34m\u001b[0m\u001b[0m\n\u001b[0m\u001b[1;32m    270\u001b[0m \u001b[0;34m\u001b[0m\u001b[0m\n\u001b[1;32m    271\u001b[0m \u001b[0;34m\u001b[0m\u001b[0m\n",
      "\u001b[0;32m~/home/vetkje/anaconda/lib/python3.7/site-packages/numpy/lib/_datasource.py\u001b[0m in \u001b[0;36mopen\u001b[0;34m(self, path, mode, encoding, newline)\u001b[0m\n\u001b[1;32m    621\u001b[0m                                       encoding=encoding, newline=newline)\n\u001b[1;32m    622\u001b[0m         \u001b[0;32melse\u001b[0m\u001b[0;34m:\u001b[0m\u001b[0;34m\u001b[0m\u001b[0;34m\u001b[0m\u001b[0m\n\u001b[0;32m--> 623\u001b[0;31m             \u001b[0;32mraise\u001b[0m \u001b[0mIOError\u001b[0m\u001b[0;34m(\u001b[0m\u001b[0;34m\"%s not found.\"\u001b[0m \u001b[0;34m%\u001b[0m \u001b[0mpath\u001b[0m\u001b[0;34m)\u001b[0m\u001b[0;34m\u001b[0m\u001b[0;34m\u001b[0m\u001b[0m\n\u001b[0m\u001b[1;32m    624\u001b[0m \u001b[0;34m\u001b[0m\u001b[0m\n\u001b[1;32m    625\u001b[0m \u001b[0;34m\u001b[0m\u001b[0m\n",
      "\u001b[0;31mOSError\u001b[0m: test.txt not found."
     ]
    }
   ],
   "source": [
    "lines = np.loadtxt(\"test.txt\", delimiter=\" \")\n",
    "total = np.sum(lines[::2])\n",
    "ar = np.argwhere(lines[::2] != 0)\n",
    "freq = lines[ar * 2] / total\n",
    "print(lines)\n",
    "print(lines[::2])\n",
    "print(freq)\n",
    "print(ar)\n",
    "\"\"\"for i in range(len(lines[::2])):\n",
    "    if \"\"\"\n",
    "print(lines[0::2])\n",
    "\n",
    "plt.loglog(ar, freq, \"o\")\n",
    "print(np.shape(lines))\n"
   ]
  },
  {
   "cell_type": "code",
   "execution_count": null,
   "metadata": {},
   "outputs": [
    {
     "name": "stdout",
     "output_type": "stream",
     "text": [
      "0\n"
     ]
    }
   ],
   "source": [
    "print((-5) % 5)\n"
   ]
  },
  {
   "cell_type": "code",
   "execution_count": null,
   "metadata": {},
   "outputs": [
    {
     "data": {
      "image/png": "[encoded data removed]",
      "text/plain": [
       "<Figure size 432x288 with 1 Axes>"
      ]
     },
     "metadata": {},
     "output_type": "display_data"
    }
   ],
   "source": [
    "G = nx.triangular_lattice_graph(10, 10, with_positions=True)\n",
    "pos = {n: G.nodes[n][\"pos\"] for n in G}\n",
    "nx.draw_networkx_edges(G, pos=pos)\n",
    "plt.axis([0, 10, 0, 10])\n",
    "plt.show()\n",
    "\n"
   ]
  },
  {
   "cell_type": "code",
   "execution_count": null,
   "metadata": {},
   "outputs": [
    {
     "name": "stdout",
     "output_type": "stream",
     "text": [
      "[[0, 1, 4], [3, 0, 4], [1, 2, 5], [4, 1, 5], [3, 4, 7], [6, 3, 7], [4, 5, 8], [7, 4, 8]]\n"
     ]
    },
    {
     "data": {
      "text/plain": [
       "Text(0.5, 1.0, 'Triangular grid')"
      ]
     },
     "execution_count": 14,
     "metadata": {},
     "output_type": "execute_result"
    },
    {
     "data": {
      "image/png": "[encoded data removed]",
      "text/plain": [
       "<Figure size 432x288 with 1 Axes>"
      ]
     },
     "metadata": {
      "needs_background": "light"
     },
     "output_type": "display_data"
    }
   ],
   "source": [
    "\n",
    "\n",
    "L1, L2 = 3, 3\n",
    "\n",
    "\n",
    "\n",
    "def conv(n):\n",
    "      \"\"\"function that converts the index n into coordinates x and y, with x being horisontal. Assuming equilateral triangle of sides 1.\n",
    "\n",
    "      Args:\n",
    "          n (int): index of particle in lattice\n",
    "\n",
    "      Returns:\n",
    "          tuple: x and y coordinates\n",
    "      \"\"\"\n",
    "      x = []\n",
    "      y = []\n",
    "      for i in n:\n",
    "          x.append(i % L1 - 0.5 * int(i / L1))\n",
    "          y.append(int(i/L1) * np.sqrt(3)/2)\n",
    "        \n",
    "      return x, y\n",
    "\n",
    "ind = np.array([i for i in range(L1*L2)])\n",
    "x = conv(ind)[0]\n",
    "y = conv(ind)[1]\n",
    "\n",
    "\n",
    "triangles = []\n",
    "\n",
    "for j in range(L2-1):\n",
    "    for i in range(L1-1):\n",
    "        i = i + j * L1\n",
    "        triangles.append([i, i+1, i+L1+1])\n",
    "        triangles.append([i+L1, i, i+1+L1])\n",
    "triang = mtri.Triangulation(x, y, triangles)\n",
    "# Plot the triangulation.\n",
    "print(triangles)\n",
    "\n",
    "plt.triplot(triang, 'r-', alpha=0.6, linewidth=0.2)\n",
    "plt.title('Triangular grid')\n"
   ]
  },
  {
   "cell_type": "code",
   "execution_count": null,
   "metadata": {},
   "outputs": [
    {
     "name": "stdout",
     "output_type": "stream",
     "text": [
      "([0.8660254037844387, 2.598076211353316, 4.330127018922194], [0.5, 0.5, 0.5])\n"
     ]
    },
    {
     "data": {
      "image/png": "[encoded data removed]",
      "text/plain": [
       "<Figure size 432x288 with 1 Axes>"
      ]
     },
     "metadata": {
      "needs_background": "light"
     },
     "output_type": "display_data"
    }
   ],
   "source": [
    "L = 3\n",
    "def hex_cor(n, j):\n",
    "    xf = []\n",
    "    yf = []\n",
    "\n",
    "    c30 = np.cos(np.pi/6)\n",
    "    s30 = np.sin(np.pi/6)\n",
    "\n",
    "    for i in range(len(n)):\n",
    "        y = int(n[i]/L)\n",
    "        x = 2 * (n[i]%L) + j[i] - y\n",
    "        x += 1\n",
    "        xf.append(x * c30)\n",
    "        if (y%2 == 1):\n",
    "            if (x%2 == 1):\n",
    "                yf.append(y * (1 + s30))\n",
    "            else:\n",
    "                yf.append((y * 3 + 1)/2)\n",
    "        else:\n",
    "            if (x%2 == 1):\n",
    "                yf.append(1.5 * y + 0.5)\n",
    "            else:\n",
    "                yf.append(1.5 * y)\n",
    "\n",
    "    return xf, yf\n",
    "\n",
    "n = np.array([0, 1, 2])\n",
    "m = np.array([3, 4, 5])\n",
    "y = np.array([0, 0, 0])\n",
    "j = np.array([1, 1, 1])\n",
    "print(hex_cor(n, y))\n",
    "\n",
    "plt.scatter(hex_cor(n, y)[0], hex_cor(n, y)[1], label=\"n:0\", c=\"r\")\n",
    "plt.scatter(hex_cor(n, j)[0], hex_cor(n, j)[1], label=\"n:1\", c=\"k\")\n",
    "plt.scatter(hex_cor(m, y)[0], hex_cor(m, y)[1], label=\"m:0\", c=\"b\")\n",
    "plt.scatter(hex_cor(m, j)[0], hex_cor(m, j)[1], label=\"m:1\", c=\"g\")\n",
    "\n",
    "plt.legend()\n",
    "plt.show()\n"
   ]
  },
  {
   "cell_type": "code",
   "execution_count": null,
   "metadata": {},
   "outputs": [
    {
     "name": "stdout",
     "output_type": "stream",
     "text": [
      "0\n",
      "1\n",
      "99\n",
      "100\n",
      "9900\n",
      "101\n",
      "9999\n",
      "99\n",
      "10\n"
     ]
    }
   ],
   "source": [
    "import numpy as np\n",
    "L = 100\n",
    "LL = 9\n",
    "\n",
    "ar = np.array([np.ones(7) for i in range(L**2)])\n",
    "\n",
    "for n in range(L**2):\n",
    "    x = n%L\n",
    "    y = int(n/L)\n",
    "    k = n + L + 1\n",
    "    m = n - L - 1\n",
    "\n",
    "    xk = k%L\n",
    "    \n",
    "    if int((k-1)/L) - L >= 0:\n",
    "        yk = 0\n",
    "    else:\n",
    "        yk = int((k-1)/L)\n",
    "\n",
    "    xm = m%L\n",
    "    \n",
    "    if m+1 < 0:\n",
    "        ym = L - 1\n",
    "    else:\n",
    "        ym = int((m+1)/L)\n",
    "\n",
    "    z = xk + yk*L\n",
    "    w = xm + ym*L\n",
    "    ar[n, 0] = n\n",
    "    ar[n, 1] = (n+1)%L + y*L\n",
    "    ar[n, 2] = (n-1)%L + y*L\n",
    "    ar[n, 3] = x + ((y + 1) % L) * L\n",
    "    ar[n, 4] = x + ((y - 1) % L) * L\n",
    "    ar[n, 5] = z\n",
    "    ar[n, 6] = w\n",
    "    \"\"\"\n",
    "    print(\"position\", n)\n",
    "    print(\"right\", (n+1)%L + y*L,\" left\", (n-1)%L + y*L)\n",
    "    print(\"up\",  x + ((y + 1) % L) * L,\"down\", x + ((y - 1) % L) * L)\n",
    "    print(\"up-right\", z,\" down left\", w)\n",
    "    print(\"-----------------------\")\n",
    "    \"\"\"\n",
    "\n",
    "def test(a):\n",
    "    for i in range(len(a)):\n",
    "        n = a[i, 0]\n",
    "        print(a[i, 0])\n",
    "        if (a[i, 1] != (n+1)%L):\n",
    "            print(a[i, 1])\n",
    "            print(\"fuck 1\")\n",
    "        if (a[i, 2] != (n-1)%L):\n",
    "            print(a[i, 2])\n",
    "            print(\"fuck 2\")\n",
    "\n",
    "        if (a[i, 3] != (n+L)%L * L):\n",
    "            print(a[i, 3])\n",
    "            print(\"fuck 3\")\n",
    "        if (a[i, 4] != (n-L)%L * L):\n",
    "            print(a[i, 4])\n",
    "            print(\"fuck 4\")\n",
    "\n",
    "        \n",
    "#test(ar)\n",
    "for i in range(7):\n",
    "    print(\"%d\" % ar[0, i])\n",
    "\n",
    "print(-1%100)\n",
    "print((10 + 100)%100)"
   ]
  },
  {
   "cell_type": "code",
   "execution_count": null,
   "metadata": {},
   "outputs": [
    {
     "name": "stdout",
     "output_type": "stream",
     "text": [
      "6\n",
      "9\n",
      "6\n"
     ]
    }
   ],
   "source": [
    "print(2 + L1 + 1)\n",
    "print(L1*L2)\n",
    "print(6%9)"
   ]
  },
  {
   "cell_type": "code",
   "execution_count": null,
   "metadata": {},
   "outputs": [
    {
     "name": "stdout",
     "output_type": "stream",
     "text": [
      "9\n"
     ]
    }
   ],
   "source": [
    "print(int(-1%10))"
   ]
  },
  {
   "cell_type": "code",
   "execution_count": null,
   "metadata": {},
   "outputs": [
    {
     "name": "stdout",
     "output_type": "stream",
     "text": [
      "DENSITIES\n",
      "tri\n",
      "0.4\n",
      "0.2254033307585166\n",
      "0.1565673346982508\n",
      "sq\n",
      "0.472\n",
      "0.27336391501660195\n",
      "0.1917519958755619\n",
      "hx\n",
      "0.5519999999999999\n",
      "0.33067197877273946\n",
      "0.23482752689104425\n",
      " \n",
      "NUMBER OF PARTICLES IN 100x100 LATTICE\n",
      "tri\n",
      "4000.0\n",
      "4508.066615170332\n",
      "4697.020040947524\n",
      "sq\n",
      "4720.0\n",
      "5467.278300332039\n",
      "5752.559876266857\n",
      "hx\n",
      "11039.999999999998\n",
      "13226.879150909579\n",
      "14089.651613462654\n"
     ]
    }
   ],
   "source": [
    "def for1(r):\n",
    "    return 0.8*r\n",
    "\n",
    "def for2(r):\n",
    "    return 1 - np.sqrt(1-0.8*r)\n",
    "\n",
    "def for3(r):\n",
    "    return np.cbrt(0.8*r-1)+1\n",
    "\n",
    "r1 = 0.5\n",
    "r2 = 0.59\n",
    "r3 = 0.69\n",
    "\n",
    "n1 = 100*100\n",
    "n2 = 100*100*2\n",
    "n3 = 100*100*3\n",
    "\n",
    "print(\"DENSITIES\")\n",
    "print(\"tri\")\n",
    "print(for1(r1))\n",
    "print(for2(r1))\n",
    "print(for3(r1))\n",
    "print(\"sq\")\n",
    "print(for1(r2))\n",
    "print(for2(r2))\n",
    "print(for3(r2))\n",
    "print(\"hx\")\n",
    "print(for1(r3))\n",
    "print(for2(r3))\n",
    "print(for3(r3))\n",
    "\n",
    "print(\" \")\n",
    "print(\"NUMBER OF PARTICLES IN 100x100 LATTICE\")\n",
    "print(\"tri\")\n",
    "print(for1(r1)*n1)\n",
    "print(for2(r1)*n2)\n",
    "print(for3(r1)*n3)\n",
    "print(\"sq\")\n",
    "print(for1(r2)*n1)\n",
    "print(for2(r2)*n2)\n",
    "print(for3(r2)*n3)\n",
    "print(\"hx\")\n",
    "print(for1(r3)*n1*2)\n",
    "print(for2(r3)*n2*2)\n",
    "print(for3(r3)*n3*2)"
   ]
  },
  {
   "cell_type": "code",
   "execution_count": null,
   "metadata": {},
   "outputs": [
    {
     "name": "stdout",
     "output_type": "stream",
     "text": [
      "DENSITIES\n",
      "tri\n",
      "0.4\n",
      "0.2254033307585166\n",
      "0.1565673346982508\n",
      "sq\n",
      "0.472\n",
      "0.27336391501660195\n",
      "0.1917519958755619\n",
      "hx\n",
      "0.5519999999999999\n",
      "0.33067197877273946\n",
      "0.23482752689104425\n",
      " \n",
      "NUMBER OF PARTICLES IN 50x50 LATTICE\n",
      "tri\n",
      "1000.0\n",
      "1127.016653792583\n",
      "1174.255010236881\n",
      "sq\n",
      "1180.0\n",
      "1366.8195750830098\n",
      "1438.1399690667142\n",
      "hx\n",
      "2759.9999999999995\n",
      "3306.7197877273948\n",
      "3522.4129033656636\n"
     ]
    }
   ],
   "source": [
    "\n",
    "r1 = 0.5\n",
    "r2 = 0.59\n",
    "r3 = 0.69\n",
    "\n",
    "L = 50\n",
    "\n",
    "n1 = 50*50\n",
    "n2 = 50*50*2\n",
    "n3 = 50*50*3\n",
    "\n",
    "print(\"DENSITIES\")\n",
    "print(\"tri\")\n",
    "print(for1(r1))\n",
    "print(for2(r1))\n",
    "print(for3(r1))\n",
    "print(\"sq\")\n",
    "print(for1(r2))\n",
    "print(for2(r2))\n",
    "print(for3(r2))\n",
    "print(\"hx\")\n",
    "print(for1(r3))\n",
    "print(for2(r3))\n",
    "print(for3(r3))\n",
    "\n",
    "print(\" \")\n",
    "print(\"NUMBER OF PARTICLES IN 50x50 LATTICE\")\n",
    "print(\"tri\")\n",
    "print(for1(r1)*n1)\n",
    "print(for2(r1)*n2)\n",
    "print(for3(r1)*n3)\n",
    "print(\"sq\")\n",
    "print(for1(r2)*n1)\n",
    "print(for2(r2)*n2)\n",
    "print(for3(r2)*n3)\n",
    "print(\"hx\")\n",
    "print(for1(r3)*n1*2)\n",
    "print(for2(r3)*n2*2)\n",
    "print(for3(r3)*n3*2)"
   ]
  },
  {
   "cell_type": "code",
   "execution_count": null,
   "metadata": {},
   "outputs": [
    {
     "name": "stdout",
     "output_type": "stream",
     "text": [
      "DENSITIES\n",
      "tri\n",
      "0.1\n",
      "0.05131670194948623\n",
      "0.03451061539437028\n",
      "sq\n",
      "0.118\n",
      "0.06085144945008836\n",
      "0.04099060516778208\n",
      "hx\n",
      "0.13799999999999998\n",
      "0.0715604489251872\n",
      "0.048294844502439926\n",
      " \n",
      "NUMBER OF PARTICLES IN 100x100 LATTICE\n",
      "tri\n",
      "1000.0\n",
      "1026.3340389897246\n",
      "1035.3184618311084\n",
      "sq\n",
      "1180.0\n",
      "1217.028989001767\n",
      "1229.7181550334624\n",
      "hx\n",
      "2759.9999999999995\n",
      "2862.417957007488\n",
      "2897.6906701463954\n"
     ]
    }
   ],
   "source": [
    "def for1(r):\n",
    "    return 0.2*r\n",
    "\n",
    "def for2(r):\n",
    "    return 1 - np.sqrt(1-0.2*r)\n",
    "\n",
    "def for3(r):\n",
    "    return np.cbrt(0.2*r-1)+1\n",
    "\n",
    "r1 = 0.5\n",
    "r2 = 0.59\n",
    "r3 = 0.69\n",
    "\n",
    "n1 = 100*100\n",
    "n2 = 100*100*2\n",
    "n3 = 100*100*3\n",
    "\n",
    "print(\"DENSITIES\")\n",
    "print(\"tri\")\n",
    "print(for1(r1))\n",
    "print(for2(r1))\n",
    "print(for3(r1))\n",
    "print(\"sq\")\n",
    "print(for1(r2))\n",
    "print(for2(r2))\n",
    "print(for3(r2))\n",
    "print(\"hx\")\n",
    "print(for1(r3))\n",
    "print(for2(r3))\n",
    "print(for3(r3))\n",
    "\n",
    "print(\" \")\n",
    "print(\"NUMBER OF PARTICLES IN 100x100 LATTICE\")\n",
    "print(\"tri\")\n",
    "print(for1(r1)*n1)\n",
    "print(for2(r1)*n2)\n",
    "print(for3(r1)*n3)\n",
    "print(\"sq\")\n",
    "print(for1(r2)*n1)\n",
    "print(for2(r2)*n2)\n",
    "print(for3(r2)*n3)\n",
    "print(\"hx\")\n",
    "print(for1(r3)*n1*2)\n",
    "print(for2(r3)*n2*2)\n",
    "print(for3(r3)*n3*2)"
   ]
  },
  {
   "cell_type": "code",
   "execution_count": null,
   "metadata": {},
   "outputs": [
    {
     "name": "stdout",
     "output_type": "stream",
     "text": [
      "DENSITIES\n",
      "tri\n",
      "0.45\n",
      "0.2583801512904337\n",
      "0.18067872939935414\n",
      "sq\n",
      "0.531\n",
      "0.31516425326944275\n",
      "0.22305379883274967\n",
      "hx\n",
      "0.621\n",
      "0.3843702411351446\n",
      "0.2763202784097495\n",
      " \n",
      "NUMBER OF PARTICLES IN 100x100 LATTICE\n",
      "tri\n",
      "4500.0\n",
      "5167.603025808674\n",
      "5420.361881980624\n",
      "sq\n",
      "5310.0\n",
      "6303.285065388855\n",
      "6691.61396498249\n",
      "hx\n",
      "12420.0\n",
      "15374.809645405785\n",
      "16579.21670458497\n"
     ]
    }
   ],
   "source": [
    "def for1(r):\n",
    "    return 0.4*r\n",
    "\n",
    "def for2(r):\n",
    "    return 1 - np.sqrt(1-0.9*r)\n",
    "\n",
    "def for3(r):\n",
    "    return np.cbrt(0.9*r-1)+1\n",
    "\n",
    "r1 = 0.5\n",
    "r2 = 0.59\n",
    "r3 = 0.69\n",
    "\n",
    "n1 = 100*100\n",
    "n2 = 100*100*2\n",
    "n3 = 100*100*3\n",
    "\n",
    "print(\"DENSITIES\")\n",
    "print(\"tri\")\n",
    "print(for1(r1))\n",
    "print(for2(r1))\n",
    "print(for3(r1))\n",
    "print(\"sq\")\n",
    "print(for1(r2))\n",
    "print(for2(r2))\n",
    "print(for3(r2))\n",
    "print(\"hx\")\n",
    "print(for1(r3))\n",
    "print(for2(r3))\n",
    "print(for3(r3))\n",
    "\n",
    "print(\" \")\n",
    "print(\"NUMBER OF PARTICLES IN 100x100 LATTICE\")\n",
    "print(\"tri\")\n",
    "print(for1(r1)*n1)\n",
    "print(for2(r1)*n2)\n",
    "print(for3(r1)*n3)\n",
    "print(\"sq\")\n",
    "print(for1(r2)*n1)\n",
    "print(for2(r2)*n2)\n",
    "print(for3(r2)*n3)\n",
    "print(\"hx\")\n",
    "print(for1(r3)*n1*2)\n",
    "print(for2(r3)*n2*2)\n",
    "print(for3(r3)*n3*2)"
   ]
  },
  {
   "cell_type": "code",
   "execution_count": null,
   "metadata": {},
   "outputs": [],
   "source": [
    "for i in range(100):\n",
    "    n = np.random.randint(4, size=10000)\n",
    "    N = np.sum(n)\n",
    "    L2 = len(n)\n",
    "    nm = max(n)\n",
    "\n",
    "    rho2 = N**2 / (L2**2 * nm**2)\n",
    "    kappa = 1/(L2*nm**2)*np.dot(n, n)\n",
    "\n",
    "    if kappa - rho2 < 0:\n",
    "        print(N, kappa, rho2)"
   ]
  },
  {
   "cell_type": "code",
   "execution_count": 75,
   "metadata": {},
   "outputs": [
    {
     "data": {
      "image/png": "[encoded data removed]",
      "text/plain": [
       "<Figure size 432x288 with 1 Axes>"
      ]
     },
     "metadata": {
      "needs_background": "light"
     },
     "output_type": "display_data"
    }
   ],
   "source": [
    "plt.rcParams.update({'font.size': 15})\n",
    "\n",
    "a = np.linspace(-3, 2, 1000)\n",
    "\n",
    "ac = -0.5\n",
    "\n",
    "ahigh = np.linspace(ac, 5, 1000)\n",
    "alow = np.linspace(-3, ac+.03, 1000)\n",
    "\n",
    "def sec(x):\n",
    "    return np.abs(x-ac-1)**(-40) + 0.5\n",
    "\n",
    "def fir(x):\n",
    "    return np.exp(x)\n",
    "\n",
    "\n",
    "fig, ax = plt.subplots()\n",
    "ax.plot(ahigh-2, sec(ahigh), \"k--\")\n",
    "ax.plot(alow, fir(alow), \"k-\")\n",
    "ax.plot(max(alow)+.01, fir(max(alow)), \"ko\")\n",
    "ax.text(-2, 0.6, \"C\")\n",
    "ax.text(1, 0.75, \"S\")\n",
    "ax.text(0.5, 0.2, \"G\")\n",
    "#ax.text(max(alow)+.1, fir(max(alow)),  \"\")\n",
    "#ax.set_xlabel(r\"$\\log_{10}(\\alpha)$\")\n",
    "#ax.set_ylabel(r\"$\\rho$\")\n",
    "ax.set_xticks([-3, max(alow)+.01, 2])\n",
    "ax.set_xticklabels([\"-3\", r\"$\\log_{10}(\\alpha_\\mathrm{t})$\", \"2\"])\n",
    "ax.set_yticks([0, 0.5, 1])\n",
    "ax.set_yticklabels([\"0\", r\"$\\rho_\\mathrm{p}$\", \"1\"])\n",
    "ax.axis([-3, 2, 0, 1])\n",
    "plt.savefig(\"phase_diagram_maybe.pdf\", dpi=200)\n",
    "#plt.show()"
   ]
  },
  {
   "cell_type": "code",
   "execution_count": null,
   "metadata": {},
   "outputs": [],
   "source": []
  }
 ],
 "metadata": {
  "kernelspec": {
   "display_name": "Python 3.7.6 ('base')",
   "language": "python",
   "name": "python3"
  },
  "language_info": {
   "codemirror_mode": {
    "name": "ipython",
    "version": 3
   },
   "file_extension": ".py",
   "mimetype": "text/x-python",
   "name": "python",
   "nbconvert_exporter": "python",
   "pygments_lexer": "ipython3",
   "version": "3.7.6"
  },
  "orig_nbformat": 4,
  "vscode": {
   "interpreter": {
    "hash": "e378eb246c89026942cae722609b9d81a0b7cca2e8a7f6ea4d8ff60d57d2536e"
   }
  }
 },
 "nbformat": 4,
 "nbformat_minor": 2
}
