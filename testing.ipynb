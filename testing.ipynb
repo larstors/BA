{
 "cells": [
  {
   "cell_type": "code",
   "execution_count": 76,
   "metadata": {},
   "outputs": [
    {
     "name": "stdout",
     "output_type": "stream",
     "text": [
      "1\n"
     ]
    }
   ],
   "source": [
    "import numpy as np\n",
    "import itertools\n",
    "import matplotlib.pyplot as plt\n",
    "import networkx as nx\n",
    "import matplotlib.tri as mtri\n",
    "from  io import StringIO\n",
    "a = [1]\n",
    "\n",
    "print(np.prod(a))"
   ]
  },
  {
   "cell_type": "code",
   "execution_count": 77,
   "metadata": {},
   "outputs": [
    {
     "name": "stdout",
     "output_type": "stream",
     "text": [
      "13\n"
     ]
    }
   ],
   "source": [
    "class test:\n",
    "    def __init__(self, a=3, b=4):\n",
    "        self.a = a\n",
    "        self.b = b\n",
    "        self.c = self.add()\n",
    "    \n",
    "    def add(self):\n",
    "        return self.a + self.b\n",
    "\n",
    "class d:\n",
    "    def __init__(self, f):\n",
    "        self.f = f\n",
    "\n",
    "\n",
    "t = test(b=10)\n",
    "print(t.c)"
   ]
  },
  {
   "cell_type": "code",
   "execution_count": 78,
   "metadata": {},
   "outputs": [
    {
     "name": "stdout",
     "output_type": "stream",
     "text": [
      "0\n",
      "3\n",
      "3\n",
      "3\n",
      "3\n",
      "3\n",
      "3\n",
      "3\n",
      "3\n",
      "3\n",
      "3\n",
      "3\n",
      "3\n",
      "3\n",
      "3\n",
      "3\n",
      "3\n",
      "3\n",
      "3\n",
      "3\n",
      "3\n",
      "3\n",
      "3\n",
      "3\n",
      "3\n",
      "3\n",
      "3\n",
      "3\n",
      "3\n",
      "3\n",
      "3\n",
      "3\n",
      "3\n",
      "3\n",
      "3\n",
      "3\n",
      "3\n",
      "3\n",
      "3\n",
      "3\n",
      "3\n",
      "3\n",
      "3\n",
      "3\n",
      "3\n",
      "3\n",
      "3\n",
      "3\n",
      "3\n",
      "3\n",
      "3\n",
      "3\n",
      "3\n",
      "3\n",
      "3\n",
      "3\n",
      "3\n",
      "3\n",
      "3\n",
      "3\n",
      "3\n",
      "3\n",
      "3\n",
      "3\n",
      "3\n",
      "3\n",
      "3\n",
      "3\n",
      "3\n",
      "3\n",
      "3\n",
      "3\n",
      "3\n",
      "3\n",
      "3\n",
      "3\n",
      "3\n",
      "3\n",
      "3\n",
      "3\n",
      "3\n",
      "3\n",
      "3\n",
      "3\n",
      "3\n",
      "3\n",
      "3\n",
      "3\n",
      "3\n",
      "3\n",
      "3\n",
      "3\n",
      "3\n",
      "3\n",
      "3\n",
      "3\n",
      "3\n",
      "3\n",
      "3\n",
      "3\n",
      "3\n"
     ]
    }
   ],
   "source": [
    "f = [test(0, 0)]*100\n",
    "\n",
    "print(f[50].c)\n",
    "\n",
    "f[50].c = 3\n",
    "\n",
    "for i in range(100):\n",
    "    print(f[i].c)\n",
    "\n",
    "\n"
   ]
  },
  {
   "cell_type": "code",
   "execution_count": 79,
   "metadata": {},
   "outputs": [
    {
     "name": "stdout",
     "output_type": "stream",
     "text": [
OccNr

      "[4]\n",
      "<class 'numpy.int32'>\n"
main
     ]
    }
   ],
   "source": [
    "print(np.random.choice([1, 2, 3, 4], 1, [0.1, 0.2, 0.3, 0.4]))\n",
    "print(type(np.random.choice([1, 2, 3, 4], 1, [0.1, 0.2, 0.3, 0.4])[0]))"
   ]
  },
  {
   "cell_type": "code",
   "execution_count": 80,
   "metadata": {},
   "outputs": [
    {
     "name": "stdout",
     "output_type": "stream",
     "text": [
      "1\n"
     ]
    }
   ],
   "source": [
    "print(int(7/5))"
   ]
  },
  {
   "cell_type": "code",
   "execution_count": 81,
   "metadata": {},
   "outputs": [
    {
     "name": "stdout",
     "output_type": "stream",
     "text": [
      "[[-2, 5], [0, 1], [4, 2]]\n",
      "[-2, 5]\n",
      "9\n",
      "[[0, 1], [4, 2]]\n",
      "cool\n"
     ]
    }
   ],
   "source": [
    "test_list = [[0, 1], [-2, 5], [4, 2]]\n",
    "\n",
    "\n",
    "test_list.sort(key=lambda x: x[0])\n",
    "\n",
    "def f(k=3):\n",
    "    return print(k)\n",
    "\n",
    "\n",
    "print(test_list)\n",
    "\n",
    "o = []\n",
    "\n",
    "e = [[0, f], [0, f]]\n",
    "\n",
    "p = test_list[0]\n",
    "print(p)\n",
    "\n",
    "p = e[1]\n",
    "p[1](9)\n",
    "\n",
    "test_list.pop(0)\n",
    "\n",
    "print(test_list)\n",
    "\n",
    "if not o:\n",
    "    print(\"cool\")\n"
   ]
  },
  {
   "cell_type": "code",
   "execution_count": 82,
   "metadata": {},
   "outputs": [
    {
     "name": "stdout",
     "output_type": "stream",
     "text": [
      "[0, 2]\n",
      "[0, 1, 2]\n",
      "[[0, 2], [0, 1, 2]]\n"
     ]
    }
   ],
   "source": [
    "a = [[0, 2], [0, 1, 2]]\n",
    "a1 = a[0]\n",
    "a2 = a[1]\n",
    "print(a1)\n",
    "a1, a2 = a2, a1\n",
    "print(a1)\n",
    "print(a)"
   ]
  },
  {
   "cell_type": "code",
   "execution_count": 83,
   "metadata": {},
   "outputs": [
    {
     "name": "stdout",
     "output_type": "stream",
     "text": [
      "2\n"
     ]
    }
   ],
   "source": [
    "b = True\n",
    "k = 1\n",
    "print(b + k)"
   ]
  },
  {
   "cell_type": "code",
   "execution_count": 84,
   "metadata": {},
   "outputs": [
    {
     "name": "stdout",
     "output_type": "stream",
     "text": [
      "[1 2 3 4 5]\n"
     ]
    }
   ],
   "source": [
    "a = np.array([0, 1, 2, 3, 4, 5])\n",
    "b = np.array([1, 1, 1, 1, 1])\n",
    "\n",
    "print(a[0:len(b)]+b)\n",
    "\n"
   ]
  },
  {
   "cell_type": "code",
   "execution_count": 85,
   "metadata": {},
   "outputs": [
    {
     "data": {
      "text/plain": [
       "<BarContainer object of 8 artists>"
      ]
     },
     "execution_count": 85,
     "metadata": {},
     "output_type": "execute_result"
    },
    {
     "data": {
OccNr

      "image/png": "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",
 main
      "text/plain": [
       "<Figure size 432x288 with 1 Axes>"
      ]
     },
     "metadata": {
      "needs_background": "light"
     },
     "output_type": "display_data"
    }
   ],
   "source": [
    "a = np.array([10, 0, 2, 3, 4, 12, 3, 5])\n",
    "b = np.array([1, 2, 3, 4, 5, 6, 7, 8])\n",
    "\n",
    "plt.bar(b, a, width=1)"
   ]
  },
  {
   "cell_type": "code",
   "execution_count": 86,
   "metadata": {},
   "outputs": [
    {
     "ename": "OSError",
     "evalue": "test.txt not found.",
     "output_type": "error",
     "traceback": [
      "\u001b[0;31m---------------------------------------------------------------------------\u001b[0m",
      "\u001b[0;31mOSError\u001b[0m                                   Traceback (most recent call last)",
      "\u001b[0;32m<ipython-input-86-84c5a423e841>\u001b[0m in \u001b[0;36m<module>\u001b[0;34m\u001b[0m\n\u001b[0;32m----> 1\u001b[0;31m \u001b[0mlines\u001b[0m \u001b[0;34m=\u001b[0m \u001b[0mnp\u001b[0m\u001b[0;34m.\u001b[0m\u001b[0mloadtxt\u001b[0m\u001b[0;34m(\u001b[0m\u001b[0;34m\"test.txt\"\u001b[0m\u001b[0;34m,\u001b[0m \u001b[0mdelimiter\u001b[0m\u001b[0;34m=\u001b[0m\u001b[0;34m\" \"\u001b[0m\u001b[0;34m)\u001b[0m\u001b[0;34m\u001b[0m\u001b[0;34m\u001b[0m\u001b[0m\n\u001b[0m\u001b[1;32m      2\u001b[0m \u001b[0mtotal\u001b[0m \u001b[0;34m=\u001b[0m \u001b[0mnp\u001b[0m\u001b[0;34m.\u001b[0m\u001b[0msum\u001b[0m\u001b[0;34m(\u001b[0m\u001b[0mlines\u001b[0m\u001b[0;34m[\u001b[0m\u001b[0;34m:\u001b[0m\u001b[0;34m:\u001b[0m\u001b[0;36m2\u001b[0m\u001b[0;34m]\u001b[0m\u001b[0;34m)\u001b[0m\u001b[0;34m\u001b[0m\u001b[0;34m\u001b[0m\u001b[0m\n\u001b[1;32m      3\u001b[0m \u001b[0mar\u001b[0m \u001b[0;34m=\u001b[0m \u001b[0mnp\u001b[0m\u001b[0;34m.\u001b[0m\u001b[0margwhere\u001b[0m\u001b[0;34m(\u001b[0m\u001b[0mlines\u001b[0m\u001b[0;34m[\u001b[0m\u001b[0;34m:\u001b[0m\u001b[0;34m:\u001b[0m\u001b[0;36m2\u001b[0m\u001b[0;34m]\u001b[0m \u001b[0;34m!=\u001b[0m \u001b[0;36m0\u001b[0m\u001b[0;34m)\u001b[0m\u001b[0;34m\u001b[0m\u001b[0;34m\u001b[0m\u001b[0m\n\u001b[1;32m      4\u001b[0m \u001b[0mfreq\u001b[0m \u001b[0;34m=\u001b[0m \u001b[0mlines\u001b[0m\u001b[0;34m[\u001b[0m\u001b[0mar\u001b[0m \u001b[0;34m*\u001b[0m \u001b[0;36m2\u001b[0m\u001b[0;34m]\u001b[0m \u001b[0;34m/\u001b[0m \u001b[0mtotal\u001b[0m\u001b[0;34m\u001b[0m\u001b[0;34m\u001b[0m\u001b[0m\n\u001b[1;32m      5\u001b[0m \u001b[0mprint\u001b[0m\u001b[0;34m(\u001b[0m\u001b[0mlines\u001b[0m\u001b[0;34m)\u001b[0m\u001b[0;34m\u001b[0m\u001b[0;34m\u001b[0m\u001b[0m\n",
      "\u001b[0;32m~/home/vetkje/anaconda/lib/python3.7/site-packages/numpy/lib/npyio.py\u001b[0m in \u001b[0;36mloadtxt\u001b[0;34m(fname, dtype, comments, delimiter, converters, skiprows, usecols, unpack, ndmin, encoding, max_rows)\u001b[0m\n\u001b[1;32m    979\u001b[0m             \u001b[0mfname\u001b[0m \u001b[0;34m=\u001b[0m \u001b[0mos_fspath\u001b[0m\u001b[0;34m(\u001b[0m\u001b[0mfname\u001b[0m\u001b[0;34m)\u001b[0m\u001b[0;34m\u001b[0m\u001b[0;34m\u001b[0m\u001b[0m\n\u001b[1;32m    980\u001b[0m         \u001b[0;32mif\u001b[0m \u001b[0m_is_string_like\u001b[0m\u001b[0;34m(\u001b[0m\u001b[0mfname\u001b[0m\u001b[0;34m)\u001b[0m\u001b[0;34m:\u001b[0m\u001b[0;34m\u001b[0m\u001b[0;34m\u001b[0m\u001b[0m\n\u001b[0;32m--> 981\u001b[0;31m             \u001b[0mfh\u001b[0m \u001b[0;34m=\u001b[0m \u001b[0mnp\u001b[0m\u001b[0;34m.\u001b[0m\u001b[0mlib\u001b[0m\u001b[0;34m.\u001b[0m\u001b[0m_datasource\u001b[0m\u001b[0;34m.\u001b[0m\u001b[0mopen\u001b[0m\u001b[0;34m(\u001b[0m\u001b[0mfname\u001b[0m\u001b[0;34m,\u001b[0m \u001b[0;34m'rt'\u001b[0m\u001b[0;34m,\u001b[0m \u001b[0mencoding\u001b[0m\u001b[0;34m=\u001b[0m\u001b[0mencoding\u001b[0m\u001b[0;34m)\u001b[0m\u001b[0;34m\u001b[0m\u001b[0;34m\u001b[0m\u001b[0m\n\u001b[0m\u001b[1;32m    982\u001b[0m             \u001b[0mfencoding\u001b[0m \u001b[0;34m=\u001b[0m \u001b[0mgetattr\u001b[0m\u001b[0;34m(\u001b[0m\u001b[0mfh\u001b[0m\u001b[0;34m,\u001b[0m \u001b[0;34m'encoding'\u001b[0m\u001b[0;34m,\u001b[0m \u001b[0;34m'latin1'\u001b[0m\u001b[0;34m)\u001b[0m\u001b[0;34m\u001b[0m\u001b[0;34m\u001b[0m\u001b[0m\n\u001b[1;32m    983\u001b[0m             \u001b[0mfh\u001b[0m \u001b[0;34m=\u001b[0m \u001b[0miter\u001b[0m\u001b[0;34m(\u001b[0m\u001b[0mfh\u001b[0m\u001b[0;34m)\u001b[0m\u001b[0;34m\u001b[0m\u001b[0;34m\u001b[0m\u001b[0m\n",
      "\u001b[0;32m~/home/vetkje/anaconda/lib/python3.7/site-packages/numpy/lib/_datasource.py\u001b[0m in \u001b[0;36mopen\u001b[0;34m(path, mode, destpath, encoding, newline)\u001b[0m\n\u001b[1;32m    267\u001b[0m \u001b[0;34m\u001b[0m\u001b[0m\n\u001b[1;32m    268\u001b[0m     \u001b[0mds\u001b[0m \u001b[0;34m=\u001b[0m \u001b[0mDataSource\u001b[0m\u001b[0;34m(\u001b[0m\u001b[0mdestpath\u001b[0m\u001b[0;34m)\u001b[0m\u001b[0;34m\u001b[0m\u001b[0;34m\u001b[0m\u001b[0m\n\u001b[0;32m--> 269\u001b[0;31m     \u001b[0;32mreturn\u001b[0m \u001b[0mds\u001b[0m\u001b[0;34m.\u001b[0m\u001b[0mopen\u001b[0m\u001b[0;34m(\u001b[0m\u001b[0mpath\u001b[0m\u001b[0;34m,\u001b[0m \u001b[0mmode\u001b[0m\u001b[0;34m,\u001b[0m \u001b[0mencoding\u001b[0m\u001b[0;34m=\u001b[0m\u001b[0mencoding\u001b[0m\u001b[0;34m,\u001b[0m \u001b[0mnewline\u001b[0m\u001b[0;34m=\u001b[0m\u001b[0mnewline\u001b[0m\u001b[0;34m)\u001b[0m\u001b[0;34m\u001b[0m\u001b[0;34m\u001b[0m\u001b[0m\n\u001b[0m\u001b[1;32m    270\u001b[0m \u001b[0;34m\u001b[0m\u001b[0m\n\u001b[1;32m    271\u001b[0m \u001b[0;34m\u001b[0m\u001b[0m\n",
      "\u001b[0;32m~/home/vetkje/anaconda/lib/python3.7/site-packages/numpy/lib/_datasource.py\u001b[0m in \u001b[0;36mopen\u001b[0;34m(self, path, mode, encoding, newline)\u001b[0m\n\u001b[1;32m    621\u001b[0m                                       encoding=encoding, newline=newline)\n\u001b[1;32m    622\u001b[0m         \u001b[0;32melse\u001b[0m\u001b[0;34m:\u001b[0m\u001b[0;34m\u001b[0m\u001b[0;34m\u001b[0m\u001b[0m\n\u001b[0;32m--> 623\u001b[0;31m             \u001b[0;32mraise\u001b[0m \u001b[0mIOError\u001b[0m\u001b[0;34m(\u001b[0m\u001b[0;34m\"%s not found.\"\u001b[0m \u001b[0;34m%\u001b[0m \u001b[0mpath\u001b[0m\u001b[0;34m)\u001b[0m\u001b[0;34m\u001b[0m\u001b[0;34m\u001b[0m\u001b[0m\n\u001b[0m\u001b[1;32m    624\u001b[0m \u001b[0;34m\u001b[0m\u001b[0m\n\u001b[1;32m    625\u001b[0m \u001b[0;34m\u001b[0m\u001b[0m\n",
      "\u001b[0;31mOSError\u001b[0m: test.txt not found."
     ]
 OccNr
 main
    }
   ],
   "source": [
    "lines = np.loadtxt(\"test.txt\", delimiter=\" \")\n",
    "total = np.sum(lines[::2])\n",
    "ar = np.argwhere(lines[::2] != 0)\n",
    "freq = lines[ar * 2] / total\n",
    "print(lines)\n",
    "print(lines[::2])\n",
    "print(freq)\n",
    "print(ar)\n",
    "\"\"\"for i in range(len(lines[::2])):\n",
    "    if \"\"\"\n",
    "print(lines[0::2])\n",
    "\n",
    "plt.loglog(ar, freq, \"o\")\n",
    "print(np.shape(lines))\n"
   ]
  },
  {
   "cell_type": "code",
   "execution_count": null,
   "metadata": {},
   "outputs": [
    {
     "name": "stdout",
     "output_type": "stream",
     "text": [
      "0\n"
     ]
    }
   ],
   "source": [
    "print((-5) % 5)\n"
   ]
  },
  {
   "cell_type": "code",
   "execution_count": null,
   "metadata": {},
   "outputs": [
    {
     "data": {
      "image/png": "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",
      "text/plain": [
       "<Figure size 432x288 with 1 Axes>"
      ]
     },
     "metadata": {
      "needs_background": "light"
     },
     "output_type": "display_data"
    }
   ],
   "source": [
    "G = nx.triangular_lattice_graph(10, 10, with_positions=True)\n",
    "pos = {n: G.nodes[n][\"pos\"] for n in G}\n",
    "nx.draw_networkx_edges(G, pos=pos)\n",
    "plt.axis([0, 10, 0, 10])\n",
    "plt.show()\n",
    "\n"
   ]
  },
  {
   "cell_type": "code",
   "execution_count": null,
   "metadata": {},
   "outputs": [
    {
     "name": "stdout",
     "output_type": "stream",
     "text": [
      "[[0, 1, 4], [3, 0, 4], [1, 2, 5], [4, 1, 5], [3, 4, 7], [6, 3, 7], [4, 5, 8], [7, 4, 8]]\n"
     ]
    },
    {
     "data": {
      "text/plain": [
       "Text(0.5, 1.0, 'Triangular grid')"
      ]
     },
     "execution_count": 14,
     "metadata": {},
     "output_type": "execute_result"
    },
    {
     "data": {
      "image/png": "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",
      "text/plain": [
       "<Figure size 432x288 with 1 Axes>"
      ]
     },
     "metadata": {
      "needs_background": "light"
     },
     "output_type": "display_data"
    }
   ],
   "source": [
    "\n",
    "\n",
    "L1, L2 = 3, 3\n",
    "\n",
    "\n",
    "\n",
    "def conv(n):\n",
    "      \"\"\"function that converts the index n into coordinates x and y, with x being horisontal. Assuming equilateral triangle of sides 1.\n",
    "\n",
    "      Args:\n",
    "          n (int): index of particle in lattice\n",
    "\n",
    "      Returns:\n",
    "          tuple: x and y coordinates\n",
    "      \"\"\"\n",
    "      x = []\n",
    "      y = []\n",
    "      for i in n:\n",
    "          x.append(i % L1 - 0.5 * int(i / L1))\n",
    "          y.append(int(i/L1) * np.sqrt(3)/2)\n",
    "        \n",
    "      return x, y\n",
    "\n",
    "ind = np.array([i for i in range(L1*L2)])\n",
    "x = conv(ind)[0]\n",
    "y = conv(ind)[1]\n",
    "\n",
    "\n",
    "triangles = []\n",
    "\n",
    "for j in range(L2-1):\n",
    "    for i in range(L1-1):\n",
    "        i = i + j * L1\n",
    "        triangles.append([i, i+1, i+L1+1])\n",
    "        triangles.append([i+L1, i, i+1+L1])\n",
    "triang = mtri.Triangulation(x, y, triangles)\n",
    "# Plot the triangulation.\n",
    "print(triangles)\n",
    "\n",
    "plt.triplot(triang, 'r-', alpha=0.6, linewidth=0.2)\n",
    "plt.title('Triangular grid')\n"
   ]
  },
  {
   "cell_type": "code",
OccNr
   "execution_count": null,
 main
   "metadata": {},
   "outputs": [
    {
     "name": "stdout",
     "output_type": "stream",
     "text": [
      "([0.8660254037844387, 2.598076211353316, 4.330127018922194], [0.5, 0.5, 0.5])\n"
     ]
    },
    {
     "data": {
      "image/png": "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",
      "text/plain": [
       "<Figure size 432x288 with 1 Axes>"
      ]
     },
     "metadata": {
      "needs_background": "light"
     },
     "output_type": "display_data"
    }
   ],
   "source": [
    "L = 3\n",
    "def hex_cor(n, j):\n",
    "    xf = []\n",
    "    yf = []\n",
    "\n",
    "    c30 = np.cos(np.pi/6)\n",
    "    s30 = np.sin(np.pi/6)\n",
    "\n",
    "    for i in range(len(n)):\n",
    "        y = int(n[i]/L)\n",
    "        x = 2 * (n[i]%L) + j[i] - y\n",
    "        x += 1\n",
    "        xf.append(x * c30)\n",
    "        if (y%2 == 1):\n",
    "            if (x%2 == 1):\n",
    "                yf.append(y * (1 + s30))\n",
    "            else:\n",
    "                yf.append((y * 3 + 1)/2)\n",
    "        else:\n",
    "            if (x%2 == 1):\n",
    "                yf.append(1.5 * y + 0.5)\n",
    "            else:\n",
    "                yf.append(1.5 * y)\n",
    "\n",
    "    return xf, yf\n",
    "\n",
    "n = np.array([0, 1, 2])\n",
    "m = np.array([3, 4, 5])\n",
    "k = np.array([6, 7, 8])\n",
    "y = np.array([0, 0, 0])\n",
    "j = np.array([1, 1, 1])\n",
    "\n",
    "print(hex_cor(n, y))\n",
    "\n",
    "plt.scatter(hex_cor(n, y)[0], hex_cor(n, y)[1], label=\"n:0\", c=\"r\")\n",
    "plt.scatter(hex_cor(n, j)[0], hex_cor(n, j)[1], label=\"n:1\", c=\"k\")\n",
    "plt.scatter(hex_cor(m, y)[0], hex_cor(m, y)[1], label=\"m:0\", c=\"b\")\n",
    "plt.scatter(hex_cor(m, j)[0], hex_cor(m, j)[1], label=\"m:1\", c=\"g\")\n",
    "plt.scatter(hex_cor(k, y)[0], hex_cor(k, y)[1], label=\"k:0\", c=\"c\")\n",
    "plt.scatter(hex_cor(k, j)[0], hex_cor(k, j)[1], label=\"k:1\", c=\"y\")\n",
    "\n",
    "x_hex = [hex_cor(n, j)[0], hex_cor(n, y)[0]]\n",
    "\n",
    "plt.legend()\n",
    "plt.show()\n"
   ]
  },
  {
   "cell_type": "code",
   "execution_count": 44,
   "metadata": {},
   "outputs": [
    {
     "name": "stdout",
     "output_type": "stream",
     "text": [
      "1\n"
     ]
    }
   ],
   "source": [
    "if (-1%2):\n",
    "    print(-1%2)"
   ]
  },
  {
   "cell_type": "code",
   "execution_count": 45,
   "metadata": {},
   "outputs": [
    {
     "data": {
      "image/png": "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",
      "text/plain": [
       "<Figure size 432x288 with 1 Axes>"
      ]
     },
     "metadata": {
      "needs_background": "light"
     },
     "output_type": "display_data"
    }
   ],
   "source": [
    "import matplotlib.pyplot as plt\n",
    "\n",
    "coord = [[2,2], [1,1], [2,1],  [1,2], [0.5,1.5]]\n",
    "coord.append(coord[0]) #repeat the first point to create a 'closed loop'\n",
    "\n",
    "xs, ys = zip(*coord) #create lists of x and y values\n",
    "\n",
    "plt.figure()\n",
    "plt.plot(xs,ys) \n",
    "plt.show() # if you need..."
   ]
  },
  {
   "cell_type": "code",
   "execution_count": 89,
   "metadata": {},
   "outputs": [
    {
     "data": {
      "text/plain": [
       "<matplotlib.collections.PathCollection at 0x1827ff5deb0>"
      ]
     },
     "execution_count": 89,
     "metadata": {},
     "output_type": "execute_result"
    },
    {
     "data": {
      "image/png": "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",
      "text/plain": [
       "<Figure size 432x288 with 1 Axes>"
      ]
     },
     "metadata": {
      "needs_background": "light"
     },
     "output_type": "display_data"
    }
   ],
   "source": [
    "L = 4\n",
    "xl = []\n",
    "yl = []\n",
    "\n",
    "def hex_cor_int(n, j):\n",
    "    xf = 0\n",
    "    yf = 0\n",
    "\n",
    "    c30 = np.cos(np.pi/6)\n",
    "    s30 = np.sin(np.pi/6)\n",
    "\n",
    "    \n",
    "    y = int(n/L)\n",
    "    x = 2 * (n%L) + j - y\n",
    "    x += 1\n",
    "    xf = (x * c30)\n",
    "\n",
    "    if (y%2 == 1):\n",
    "        if (x%2 == 1):\n",
    "            yf = (y * (1 + s30))\n",
    "        else:\n",
    "            yf = ((y * 3 + 1)/2)\n",
    "    else:\n",
    "        if (x%2 == 1):\n",
    "            yf = (1.5 * y + 0.5)\n",
    "        else:\n",
    "            yf = (1.5 * y)\n",
    "\n",
    "    return xf, yf\n",
    "\n",
    "for i in range(L):\n",
    "    for k in range(2):\n",
    "        f = 1 - k\n",
    "        for j in range(L):  \n",
    "            n = i * L + j\n",
    "\n",
    "            if (f%2==0):\n",
    "                xl.append(hex_cor_int(n, f)[0])\n",
    "                yl.append(hex_cor_int(n, f)[1])\n",
    "            else:\n",
    "                xl.append(hex_cor_int(n, f)[0])\n",
    "                yl.append(hex_cor_int(n, f)[1])\n",
    "\n",
    "\n",
    "\n",
    "for n in range(0, L-1, 1):\n",
    "    for i in range(L-1):\n",
    "        coord = [[xl[i + 2*n*L], yl[i+ 2*n*L]], [xl[i + L + 1 + 2*n*L], yl[i+ L + 1 + 2*n*L]], [xl[i+ 2*L + 1+ 2*n*L], yl[i+ 2*L + 1+ 2*n*L]], [xl[i+ 3*L + 1+ 2*n*L], yl[i+ 3*L +1+ 2*n*L]], [xl[i+ L*2+ 2*n*L], yl[i+ L*2+ 2*n*L]], [xl[i+ L+ 2*n*L], yl[i+ L+ 2*n*L]], [xl[i+ 2*n*L], yl[i+ 2*n*L]]]\n",
    "        xs, ys = zip(*coord)\n",
    "        plt.plot(xs, ys, 'r-', alpha=0.6, linewidth=0.2)\n",
    "\n",
    "plt.plot([xl[L-1], xl[2*L-1]], [yl[L-1], yl[2*L-1]], 'r-', alpha=0.6, linewidth=0.2)\n",
    "plt.plot([xl[2*L*(L-1)], xl[2*L*L - L]], [yl[2*L*(L-1)], yl[2*L*L - L]], 'r-', alpha=0.6, linewidth=0.2)\n",
    "\n",
    "plt.scatter(xl, yl)"
   ]
  },
  {
   "cell_type": "code",
   "execution_count": 77,
   "metadata": {},
   "outputs": [
    {
     "data": {
      "text/plain": [
       "[<matplotlib.lines.Line2D at 0x1826bd3b220>]"
      ]
     },
     "execution_count": 77,
     "metadata": {},
     "output_type": "execute_result"
    },
    {
     "data": {
      "image/png": "iVBORw0KGgoAAAANSUhEUgAAAXQAAAD4CAYAAAD8Zh1EAAAAOXRFWHRTb2Z0d2FyZQBNYXRwbG90bGliIHZlcnNpb24zLjMuMiwgaHR0cHM6Ly9tYXRwbG90bGliLm9yZy8vihELAAAACXBIWXMAAAsTAAALEwEAmpwYAAAM/klEQVR4nO3df4zk9V3H8efLO05LoYV4a1PuoEcTCiWmXHHFVqueonKlRqLxD9BKepFcSNqG0z8sapSY/mODGmJoe7lQxJ8Q056VEpQm9Qd/NFUWe8Dx0ytYWMHcIrE1+AdeefvHDMl22buZ252dvX37fCSb7Hy/35l57yfDM9/57s6RqkKStPF9x3oPIEmaDIMuSU0YdElqwqBLUhMGXZKa2LxeT7x169basWPHej29JG1IDz744ItVNbPcvnUL+o4dO5ibm1uvp5ekDSnJ14+3z0suktSEQZekJgy6JDVh0CWpCYMuSU0YdElqwqBLUhMGXVpi37597Nu3b73HkE7aun2wSDpVHTp0aL1HkFbEM3RJasKgS1ITBl2SmjDoktSEQZekJgy6JDVh0CWpCYMuSU0YdElqwqBLUhMGXZKaMOiS1IRBl6QmDLokNWHQJakJgy5JTYwMepLbkxxNcnjEcd+f5FtJfn5y40mSxjXOGfodwO4THZBkE/AJ4L4JzCRJWoGRQa+q+4GXRhz2UeBzwNFJDCVJOnmrvoaeZBvws8D+MY7dm2QuydzCwsJqn1qStMgkfil6C/CxqvrWqAOr6kBVzVbV7MzMzASeWpL0ms0TeIxZ4K4kAFuBK5Mcq6rPT+CxJUljWnXQq+r8175PcgdwjzGXpOkbGfQkdwK7gK1J5oGbgNMAqmrkdXNJ0nSMDHpVXTPug1XVh1Y1jSRpxfykqCQ1YdAlqQmDLklNGHRJasKgS1ITBl2SmjDoktSEQZekJgy6JDVh0CWpCYMuSU0YdElqwqBLUhMGXZKaMOiS1IRBl6QmDLokNWHQJakJgy5JTRh0SWrCoEtSEwZdkpow6JLUhEGXpCYMuiQ1YdAlqQmDLklNGHRJasKgS1ITBl2SmhgZ9CS3Jzma5PBx9v9ikoeHX19Ocsnkx5QkjTLOGfodwO4T7H8G+NGqehfwceDABOaSJJ2kzaMOqKr7k+w4wf4vL7r5FWD7BOaSJJ2kSV9D/2Xgbyb8mJKkMYw8Qx9Xkh9jEPT3neCYvcBegPPOO29STy1JYkJn6EneBdwGXFVV/3m846rqQFXNVtXszMzMJJ5akjS06qAnOQ84CPxSVT21+pEkSSsx8pJLkjuBXcDWJPPATcBpAFW1H/ht4LuBTyUBOFZVs2s1sCRpeeP8lcs1I/ZfB1w3sYkkSSviJ0UlqQmDLklNGHRJasKgS1ITBl2SmjDoktSEQZekJgy6JDVh0CWpCYMuSU0YdElqwqBLUhMGXZKaMOiS1IRBl6QmDLokNWHQJakJgy5JTRh0SWrCoEtSEwZdkpow6JLUhEGXpCYMuiQ1YdAlqQmDLklNGHRJasKgS1ITBl2SmjDoktSEQZekJkYGPcntSY4mOXyc/Unyh0mOJHk4yaWTH1OSNMo4Z+h3ALtPsP/9wAXDr73Ap1c/liTpZI0MelXdD7x0gkOuAv6kBr4CnJXkrZMaUJI0nklcQ98GPLfo9vxw2+sk2ZtkLsncwsLCBJ5akvSaSQQ9y2yr5Q6sqgNVNVtVszMzMxN4aknSayYR9Hng3EW3twPPT+BxJUknYRJBvxu4dvjXLu8BvlFVL0zgcSVJJ2HzqAOS3AnsArYmmQduAk4DqKr9wL3AlcAR4H+APWs1rCTp+EYGvaquGbG/gA9PbCJJ0or4SVFJasKgS1ITBl2SmjDoktSEQZekJgy6JDVh0CWpCYMuSU0YdElqwqBLUhMGXZKaMOiS1IRBl6QmDLokNWHQJakJgy5JTRh0SWrCoEtSEwZdkpow6JLUhEGXpCYMuiQ1YdAlqQmDLklNGHRJasKgS1ITBl2SmjDoktSEQZekJgy6JDUxVtCT7E7yZJIjSW5cZv+bk3whyUNJHk2yZ/KjSpJOZGTQk2wCPgm8H7gYuCbJxUsO+zDwWFVdAuwCfj/JlgnPKkk6gXHO0C8DjlTV01X1CnAXcNWSYwo4M0mAM4CXgGMTnVSSdELjBH0b8Nyi2/PDbYvdCrwTeB54BLihql6dyISSpLGME/Qss62W3L4COAScA+wEbk3yptc9ULI3yVySuYWFhZMcVZJ0IuMEfR44d9Ht7QzOxBfbAxysgSPAM8BFSx+oqg5U1WxVzc7MzKx0ZknSMsYJ+gPABUnOH/6i82rg7iXHPAtcDpDkLcCFwNOTHFSSdGKbRx1QVceSfAS4D9gE3F5Vjya5frh/P/Bx4I4kjzC4RPOxqnpxDeeWJC0xMugAVXUvcO+SbfsXff888FOTHU2SdDL8pKgkNWHQJakJgy5JTRh0SWrCoEtSEwZdkpow6JLUhEGXpCYMuiQ1YdAlqQmDLklNGHRJasKgS1ITBl2SmjDoktSEQZekJgy6JDVh0CWpCYMuSU0YdElqwqBLUhMGXZKaMOiS1IRBl6QmDLokNWHQJakJgy5JTRh0SWrCoEtSEwZdkpow6JLUxFhBT7I7yZNJjiS58TjH7EpyKMmjSf5xsmNKkkbZPOqAJJuATwI/CcwDDyS5u6oeW3TMWcCngN1V9WyS71mjeSVJxzHOGfplwJGqerqqXgHuAq5acswvAAer6lmAqjo62TElSaOME/RtwHOLbs8Pty32DuDsJP+Q5MEk1y73QEn2JplLMrewsLCyiSVJyxon6FlmWy25vRn4PuADwBXAbyV5x+vuVHWgqmaranZmZuakh5UkHd/Ia+gMzsjPXXR7O/D8Mse8WFUvAy8nuR+4BHhqIlNKkkYa5wz9AeCCJOcn2QJcDdy95Ji/Bn44yeYkpwM/ADw+2VElSScy8gy9qo4l+QhwH7AJuL2qHk1y/XD//qp6PMnfAg8DrwK3VdXhtRxckvTtxrnkQlXdC9y7ZNv+JbdvBm6e3GiSpJPhJ0UlqQmDLklNGHRJasKgS1ITBl2SmjDoktSEQZekJgy6JDVh0CWpCYMuSU0YdElqwqBLUhMGXZKaMOiS1MRY/3yu9P/Jzp0713sEaUUMurTELbfcst4jSCviJRdJasKgS1ITBl2SmjDoktSEQZekJgy6JDVh0CWpCYMuSU2kqtbniZMF4OvL7NoKvDjlcTYC12V5rsvxuTbL2+jr8raqmllux7oF/XiSzFXV7HrPcapxXZbnuhyfa7O8zuviJRdJasKgS1ITp2LQD6z3AKco12V5rsvxuTbLa7sup9w1dEnSypyKZ+iSpBUw6JLUxNSCnmR3kieTHEly4zL735zkC0keSvJokj3D7ecm+fskjw+33zCtmadlpWuzaP+mJF9Ncs/0pl57q1mXJGcl+WySJ4avnfdOd/q1s8p1+ZXhtsNJ7kzyXdOdfu2MsS5nJ/mrJA8n+eck3zvufTeMqlrzL2AT8DXg7cAW4CHg4iXH/AbwieH3M8BLw2PfClw63H4m8NTS+27kr9WszaL9vwr8BXDPev88p8q6AH8MXDf8fgtw1nr/TOu9LsA24BngDcN9fwl8aL1/pimuy83ATcPvLwK+NO59N8rXtM7QLwOOVNXTVfUKcBdw1ZJjCjgzSYAzGLwIj1XVC1X1LwBV9d/A4wxemF2seG0AkmwHPgDcNr2Rp2LF65LkTcCPAJ8BqKpXquq/pjb52lrV64XB/3byDUk2A6cDz09n7DU3zrpcDHwJoKqeAHYkecuY990QphX0bcBzi27P8/oo3wq8k8EL7BHghqp6dfEBSXYA7wb+ac0mnb7Vrs0twK8Br9LLatbl7cAC8EfDS1G3JXnjFGaehhWvS1X9O/B7wLPAC8A3quqLaz/yVIyzLg8BPweQ5DLgbcD2Me+7IUwr6Flm29K/l7wCOAScA+wEbh2eaQ0eIDkD+Bywr6q+uTZjrosVr02SnwaOVtWDazrh+ljNa2YzcCnw6ap6N/AysHGvi3671bxezmZw5nn+cN8bk3xw7UadqnHW5XeBs5McAj4KfJXBO5dx7rshTCvo88C5i25v5/Vv9fYAB2vgCINrfRcBJDmNQcz/vKoOTmHeaVrN2vwQ8DNJ/o3B28QfT/Jnaz/yVKxmXeaB+ap67Z3cZxkEvoPVrMtPAM9U1UJV/S9wEPjBKcw8DSPXpaq+WVV7qmoncC2D3y88M859N4ppBf0B4IIk5yfZAlwN3L3kmGeBywGG17UuBJ4eXgf8DPB4Vf3BlOadphWvTVX9elVtr6odw/v9XVV1OeNazbr8B/BckguHx10OPDadsdfcitdluP09SU4f/nd1OYPfSXUwcl2Gf/m0ZXjzOuD+4bv9cdZ0Y5jWb1+BKxn8hcrXgN8cbrseuH74/TnAFxlc8zsMfHC4/X0M3v48zOBt5CHgyvX+bfKpsDZLHmMXjf7KZbXrwuBSw9zwdfN54Oz1/nlOkXX5HeCJ4fY/Bb5zvX+eKa7Le4F/Hf78Bxe/Jpa770b88qP/ktSEnxSVpCYMuiQ1YdAlqQmDLklNGHRJasKgS1ITBl2Smvg/OjBx2M8zQhAAAAAASUVORK5CYII=",
      "text/plain": [
       "<Figure size 432x288 with 1 Axes>"
      ]
     },
     "metadata": {
      "needs_background": "light"
     },
     "output_type": "display_data"
    }
   ],
   "source": []
  },
  {
   "cell_type": "code",
   "execution_count": null,
   "metadata": {},
   "outputs": [
    {
     "name": "stdout",
     "output_type": "stream",
     "text": [
      "0\n",
      "1\n",
      "99\n",
      "100\n",
      "9900\n",
      "101\n",
      "9999\n",
      "99\n",
      "10\n"
     ]
    }
   ],
   "source": [
    "import numpy as np\n",
    "L = 100\n",
    "LL = 9\n",
    "\n",
    "ar = np.array([np.ones(7) for i in range(L**2)])\n",
    "\n",
    "for n in range(L**2):\n",
    "    x = n%L\n",
    "    y = int(n/L)\n",
    "    k = n + L + 1\n",
    "    m = n - L - 1\n",
    "\n",
    "    xk = k%L\n",
    "    \n",
    "    if int((k-1)/L) - L >= 0:\n",
    "        yk = 0\n",
    "    else:\n",
    "        yk = int((k-1)/L)\n",
    "\n",
    "    xm = m%L\n",
    "    \n",
    "    if m+1 < 0:\n",
    "        ym = L - 1\n",
    "    else:\n",
    "        ym = int((m+1)/L)\n",
    "\n",
    "    z = xk + yk*L\n",
    "    w = xm + ym*L\n",
    "    ar[n, 0] = n\n",
    "    ar[n, 1] = (n+1)%L + y*L\n",
    "    ar[n, 2] = (n-1)%L + y*L\n",
    "    ar[n, 3] = x + ((y + 1) % L) * L\n",
    "    ar[n, 4] = x + ((y - 1) % L) * L\n",
    "    ar[n, 5] = z\n",
    "    ar[n, 6] = w\n",
    "    \"\"\"\n",
    "    print(\"position\", n)\n",
    "    print(\"right\", (n+1)%L + y*L,\" left\", (n-1)%L + y*L)\n",
    "    print(\"up\",  x + ((y + 1) % L) * L,\"down\", x + ((y - 1) % L) * L)\n",
    "    print(\"up-right\", z,\" down left\", w)\n",
    "    print(\"-----------------------\")\n",
    "    \"\"\"\n",
    "\n",
    "def test(a):\n",
    "    for i in range(len(a)):\n",
    "        n = a[i, 0]\n",
    "        print(a[i, 0])\n",
    "        if (a[i, 1] != (n+1)%L):\n",
    "            print(a[i, 1])\n",
    "            print(\"fuck 1\")\n",
    "        if (a[i, 2] != (n-1)%L):\n",
    "            print(a[i, 2])\n",
    "            print(\"fuck 2\")\n",
    "\n",
    "        if (a[i, 3] != (n+L)%L * L):\n",
    "            print(a[i, 3])\n",
    "            print(\"fuck 3\")\n",
    "        if (a[i, 4] != (n-L)%L * L):\n",
    "            print(a[i, 4])\n",
    "            print(\"fuck 4\")\n",
    "\n",
    "        \n",
    "#test(ar)\n",
    "for i in range(7):\n",
    "    print(\"%d\" % ar[0, i])\n",
    "\n",
    "print(-1%100)\n",
    "print((10 + 100)%100)"
   ]
  },
  {
   "cell_type": "code",
   "execution_count": null,
   "metadata": {},
   "outputs": [
    {
     "name": "stdout",
     "output_type": "stream",
     "text": [
      "6\n",
      "9\n",
      "6\n"
     ]
    }
   ],
   "source": [
    "print(2 + L1 + 1)\n",
    "print(L1*L2)\n",
    "print(6%9)"
   ]
  },
  {
   "cell_type": "code",
   "execution_count": null,
   "metadata": {},
   "outputs": [
    {
     "name": "stdout",
     "output_type": "stream",
     "text": [
      "9\n"
     ]
    }
   ],
   "source": [
    "print(int(-1%10))"
   ]
  },
  {
   "cell_type": "code",
   "execution_count": null,
   "metadata": {},
   "outputs": [
    {
     "name": "stdout",
     "output_type": "stream",
     "text": [
      "DENSITIES\n",
      "tri\n",
      "0.4\n",
      "0.2254033307585166\n",
      "0.1565673346982508\n",
      "sq\n",
      "0.472\n",
      "0.27336391501660195\n",
      "0.1917519958755619\n",
      "hx\n",
      "0.5519999999999999\n",
      "0.33067197877273946\n",
      "0.23482752689104425\n",
      " \n",
      "NUMBER OF PARTICLES IN 100x100 LATTICE\n",
      "tri\n",
      "4000.0\n",
      "4508.066615170332\n",
      "4697.020040947524\n",
      "sq\n",
      "4720.0\n",
      "5467.278300332039\n",
      "5752.559876266857\n",
      "hx\n",
      "11039.999999999998\n",
      "13226.879150909579\n",
      "14089.651613462654\n"
     ]
    }
   ],
   "source": [
    "def for1(r):\n",
    "    return 0.8*r\n",
    "\n",
    "def for2(r):\n",
    "    return 1 - np.sqrt(1-0.8*r)\n",
    "\n",
    "def for3(r):\n",
    "    return np.cbrt(0.8*r-1)+1\n",
    "\n",
    "r1 = 0.5\n",
    "r2 = 0.59\n",
    "r3 = 0.69\n",
    "\n",
    "n1 = 100*100\n",
    "n2 = 100*100*2\n",
    "n3 = 100*100*3\n",
    "\n",
    "print(\"DENSITIES\")\n",
    "print(\"tri\")\n",
    "print(for1(r1))\n",
    "print(for2(r1))\n",
    "print(for3(r1))\n",
    "print(\"sq\")\n",
    "print(for1(r2))\n",
    "print(for2(r2))\n",
    "print(for3(r2))\n",
    "print(\"hx\")\n",
    "print(for1(r3))\n",
    "print(for2(r3))\n",
    "print(for3(r3))\n",
    "\n",
    "print(\" \")\n",
    "print(\"NUMBER OF PARTICLES IN 100x100 LATTICE\")\n",
    "print(\"tri\")\n",
    "print(for1(r1)*n1)\n",
    "print(for2(r1)*n2)\n",
    "print(for3(r1)*n3)\n",
    "print(\"sq\")\n",
    "print(for1(r2)*n1)\n",
    "print(for2(r2)*n2)\n",
    "print(for3(r2)*n3)\n",
    "print(\"hx\")\n",
    "print(for1(r3)*n1*2)\n",
    "print(for2(r3)*n2*2)\n",
    "print(for3(r3)*n3*2)"
   ]
  },
  {
   "cell_type": "code",
   "execution_count": null,
   "metadata": {},
   "outputs": [
    {
     "name": "stdout",
     "output_type": "stream",
     "text": [
      "DENSITIES\n",
      "tri\n",
      "0.4\n",
      "0.2254033307585166\n",
      "0.1565673346982508\n",
      "sq\n",
      "0.472\n",
      "0.27336391501660195\n",
      "0.1917519958755619\n",
      "hx\n",
      "0.5519999999999999\n",
      "0.33067197877273946\n",
      "0.23482752689104425\n",
      " \n",
      "NUMBER OF PARTICLES IN 50x50 LATTICE\n",
      "tri\n",
      "1000.0\n",
      "1127.016653792583\n",
      "1174.255010236881\n",
      "sq\n",
      "1180.0\n",
      "1366.8195750830098\n",
      "1438.1399690667142\n",
      "hx\n",
      "2759.9999999999995\n",
      "3306.7197877273948\n",
      "3522.4129033656636\n"
     ]
    }
   ],
   "source": [
    "\n",
    "r1 = 0.5\n",
    "r2 = 0.59\n",
    "r3 = 0.69\n",
    "\n",
    "L = 50\n",
    "\n",
    "n1 = 50*50\n",
    "n2 = 50*50*2\n",
    "n3 = 50*50*3\n",
    "\n",
    "print(\"DENSITIES\")\n",
    "print(\"tri\")\n",
    "print(for1(r1))\n",
    "print(for2(r1))\n",
    "print(for3(r1))\n",
    "print(\"sq\")\n",
    "print(for1(r2))\n",
    "print(for2(r2))\n",
    "print(for3(r2))\n",
    "print(\"hx\")\n",
    "print(for1(r3))\n",
    "print(for2(r3))\n",
    "print(for3(r3))\n",
    "\n",
    "print(\" \")\n",
    "print(\"NUMBER OF PARTICLES IN 50x50 LATTICE\")\n",
    "print(\"tri\")\n",
    "print(for1(r1)*n1)\n",
    "print(for2(r1)*n2)\n",
    "print(for3(r1)*n3)\n",
    "print(\"sq\")\n",
    "print(for1(r2)*n1)\n",
    "print(for2(r2)*n2)\n",
    "print(for3(r2)*n3)\n",
    "print(\"hx\")\n",
    "print(for1(r3)*n1*2)\n",
    "print(for2(r3)*n2*2)\n",
    "print(for3(r3)*n3*2)"
   ]
  },
  {
   "cell_type": "code",
   "execution_count": null,
   "metadata": {},
   "outputs": [
    {
     "name": "stdout",
     "output_type": "stream",
     "text": [
      "DENSITIES\n",
      "tri\n",
      "0.1\n",
      "0.05131670194948623\n",
      "0.03451061539437028\n",
      "sq\n",
      "0.118\n",
      "0.06085144945008836\n",
      "0.04099060516778208\n",
      "hx\n",
      "0.13799999999999998\n",
      "0.0715604489251872\n",
      "0.048294844502439926\n",
      " \n",
      "NUMBER OF PARTICLES IN 100x100 LATTICE\n",
      "tri\n",
      "1000.0\n",
      "1026.3340389897246\n",
      "1035.3184618311084\n",
      "sq\n",
      "1180.0\n",
      "1217.028989001767\n",
      "1229.7181550334624\n",
      "hx\n",
      "2759.9999999999995\n",
      "2862.417957007488\n",
      "2897.6906701463954\n"
     ]
    }
   ],
   "source": [
    "def for1(r):\n",
    "    return 0.2*r\n",
    "\n",
    "def for2(r):\n",
    "    return 1 - np.sqrt(1-0.2*r)\n",
    "\n",
    "def for3(r):\n",
    "    return np.cbrt(0.2*r-1)+1\n",
    "\n",
    "r1 = 0.5\n",
    "r2 = 0.59\n",
    "r3 = 0.69\n",
    "\n",
    "n1 = 100*100\n",
    "n2 = 100*100*2\n",
    "n3 = 100*100*3\n",
    "\n",
    "print(\"DENSITIES\")\n",
    "print(\"tri\")\n",
    "print(for1(r1))\n",
    "print(for2(r1))\n",
    "print(for3(r1))\n",
    "print(\"sq\")\n",
    "print(for1(r2))\n",
    "print(for2(r2))\n",
    "print(for3(r2))\n",
    "print(\"hx\")\n",
    "print(for1(r3))\n",
    "print(for2(r3))\n",
    "print(for3(r3))\n",
    "\n",
    "print(\" \")\n",
    "print(\"NUMBER OF PARTICLES IN 100x100 LATTICE\")\n",
    "print(\"tri\")\n",
    "print(for1(r1)*n1)\n",
    "print(for2(r1)*n2)\n",
    "print(for3(r1)*n3)\n",
    "print(\"sq\")\n",
    "print(for1(r2)*n1)\n",
    "print(for2(r2)*n2)\n",
    "print(for3(r2)*n3)\n",
    "print(\"hx\")\n",
    "print(for1(r3)*n1*2)\n",
    "print(for2(r3)*n2*2)\n",
    "print(for3(r3)*n3*2)"
   ]
  },
  {
   "cell_type": "code",
   "execution_count": null,
   "metadata": {},
   "outputs": [
    {
     "name": "stdout",
     "output_type": "stream",
     "text": [
      "DENSITIES\n",
      "tri\n",
      "0.45\n",
      "0.2583801512904337\n",
      "0.18067872939935414\n",
      "sq\n",
      "0.531\n",
      "0.31516425326944275\n",
      "0.22305379883274967\n",
      "hx\n",
      "0.621\n",
      "0.3843702411351446\n",
      "0.2763202784097495\n",
      " \n",
      "NUMBER OF PARTICLES IN 100x100 LATTICE\n",
      "tri\n",
      "4500.0\n",
      "5167.603025808674\n",
      "5420.361881980624\n",
      "sq\n",
      "5310.0\n",
      "6303.285065388855\n",
      "6691.61396498249\n",
      "hx\n",
      "12420.0\n",
      "15374.809645405785\n",
      "16579.21670458497\n"
     ]
    }
   ],
   "source": [
    "def for1(r):\n",
    "    return 0.4*r\n",
    "\n",
    "def for2(r):\n",
    "    return 1 - np.sqrt(1-0.9*r)\n",
    "\n",
    "def for3(r):\n",
    "    return np.cbrt(0.9*r-1)+1\n",
    "\n",
    "r1 = 0.5\n",
    "r2 = 0.59\n",
    "r3 = 0.69\n",
    "\n",
    "n1 = 100*100\n",
    "n2 = 100*100*2\n",
    "n3 = 100*100*3\n",
    "\n",
    "print(\"DENSITIES\")\n",
    "print(\"tri\")\n",
    "print(for1(r1))\n",
    "print(for2(r1))\n",
    "print(for3(r1))\n",
    "print(\"sq\")\n",
    "print(for1(r2))\n",
    "print(for2(r2))\n",
    "print(for3(r2))\n",
    "print(\"hx\")\n",
    "print(for1(r3))\n",
    "print(for2(r3))\n",
    "print(for3(r3))\n",
    "\n",
    "print(\" \")\n",
    "print(\"NUMBER OF PARTICLES IN 100x100 LATTICE\")\n",
    "print(\"tri\")\n",
    "print(for1(r1)*n1)\n",
    "print(for2(r1)*n2)\n",
    "print(for3(r1)*n3)\n",
    "print(\"sq\")\n",
    "print(for1(r2)*n1)\n",
    "print(for2(r2)*n2)\n",
    "print(for3(r2)*n3)\n",
    "print(\"hx\")\n",
    "print(for1(r3)*n1*2)\n",
    "print(for2(r3)*n2*2)\n",
    "print(for3(r3)*n3*2)"
   ]
  },
  {
   "cell_type": "code",
   "execution_count": null,
   "metadata": {},
   "outputs": [],
   "source": [
    "for i in range(100):\n",
    "    n = np.random.randint(4, size=10000)\n",
    "    N = np.sum(n)\n",
    "    L2 = len(n)\n",
    "    nm = max(n)\n",
    "\n",
    "    rho2 = N**2 / (L2**2 * nm**2)\n",
    "    kappa = 1/(L2*nm**2)*np.dot(n, n)\n",
    "\n",
    "    if kappa - rho2 < 0:\n",
    "        print(N, kappa, rho2)"
   ]
  },
  {
   "cell_type": "code",
   "execution_count": 109,
   "metadata": {},
   "outputs": [
    {
     "data": {
      "image/png": "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",
      "text/plain": [
       "<Figure size 432x288 with 1 Axes>"
      ]
     },
     "metadata": {
      "needs_background": "light"
     },
     "output_type": "display_data"
    }
   ],
   "source": [
    "plt.rcParams.update({'font.size': 15})\n",
    "\n",
    "a = np.linspace(-3, 2, 1000)\n",
    "\n",
    "ac = -0.5\n",
    "\n",
    "ahigh = np.linspace(ac, 5, 1000)\n",
    "alow = np.linspace(-3, ac+.03, 1000)\n",
    "\n",
    "def sec(x):\n",
    "    return np.abs(x-ac-1)**(-40) + 0.5\n",
    "\n",
    "def fir(x):\n",
    "    return np.exp(x)\n",
    "\n",
    "\n",
    "fig, ax = plt.subplots()\n",
    "ax.plot(ahigh-2, sec(ahigh), \"k--\")\n",
    "ax.plot(alow, fir(alow), \"k-\")\n",
    "ax.plot(max(alow)+.01, fir(max(alow)), \"ko\")\n",
    "ax.text(-2, 0.6, \"C\")\n",
    "ax.text(1, 0.75, \"S\")\n",
    "ax.text(0.5, 0.2, \"G\")\n",
    "#ax.text(max(alow)+.1, fir(max(alow)),  \"\")\n",
    "ax.set_xlabel(r\"$\\log_{10}(\\alpha)$\")\n",
    "ax.set_ylabel(r\"$\\rho$\")\n",
    "ax.set_xticks([])\n",
    "ax.set_xticklabels([])\n",
    "ax.set_yticks([0.5])\n",
    "ax.set_yticklabels([r\"$\\rho_\\mathrm{p}$\"])\n",
    "ax.axis([-3, 2, 0, 1])\n",
    "plt.savefig(\"phase_diagram_maybe_23.pdf\", dpi=200)\n",
    "#plt.show()"
   ]
  },
  {
   "cell_type": "code",
   "execution_count": 108,
   "metadata": {},
   "outputs": [
    {
     "data": {
      "image/png": "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",
      "text/plain": [
       "<Figure size 432x288 with 1 Axes>"
      ]
     },
     "metadata": {
      "needs_background": "light"
     },
     "output_type": "display_data"
    }
   ],
   "source": [
    "a = np.linspace(-3, 2, 1000)\n",
    "def sigm(x):\n",
    "    return 0.3*1/(1+np.exp(-15*(x+2.6)))+.2\n",
    "\n",
    "fig, ax = plt.subplots()\n",
    "ax.plot(a, sigm(a), \"k--\")\n",
    "\n",
    "\n",
    "ax.text(-0.5, 0.75, \"S\")\n",
    "ax.text(-0.5, 0.25, \"G\")\n",
    "#ax.text(max(alow)+.1, fir(max(alow)),  \"\")\n",
    "ax.set_xlabel(r\"$\\log_{10}(\\alpha)$\")\n",
    "ax.set_ylabel(r\"$\\rho$\")\n",
    "ax.set_xticks([])\n",
    "ax.set_xticklabels([])\n",
    "ax.set_yticks([0.5])\n",
    "ax.set_yticklabels([r\"$\\rho_\\mathrm{p}$\"])\n",
    "ax.axis([-3, 2, 0, 1])\n",
    "plt.savefig(\"phase_diagram_maybe_1.pdf\", dpi=200)"
   ]
  },
  {
   "cell_type": "code",
   "execution_count": null,
   "metadata": {},
   "outputs": [],
   "source": []
  }
 ],
 "metadata": {
  "kernelspec": {
   "display_name": "Python 3.7.6 ('base')",
   "language": "python",
   "name": "python3"
  },
  "language_info": {
   "codemirror_mode": {
    "name": "ipython",
    "version": 3
   },
   "file_extension": ".py",
   "mimetype": "text/x-python",
   "name": "python",
   "nbconvert_exporter": "python",
   "pygments_lexer": "ipython3",
   "version": "3.8.5"
  },
  "orig_nbformat": 4,
  "vscode": {
   "interpreter": {
    "hash": "e378eb246c89026942cae722609b9d81a0b7cca2e8a7f6ea4d8ff60d57d2536e"
   }
  }
 },
 "nbformat": 4,
 "nbformat_minor": 2
}
