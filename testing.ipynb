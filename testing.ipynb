{
 "cells": [
  {
   "cell_type": "code",
   "execution_count": 16,
   "metadata": {},
   "outputs": [
    {
     "name": "stdout",
     "output_type": "stream",
     "text": [
      "1\n"
     ]
    }
   ],
   "source": [
    "import numpy as np\n",
    "import itertools\n",
    "import matplotlib.pyplot as plt\n",
    "import networkx as nx\n",
    "import matplotlib.tri as mtri\n",
    "a = [1]\n",
    "\n",
    "print(np.prod(a))"
   ]
  },
  {
   "cell_type": "code",
   "execution_count": 2,
   "metadata": {},
   "outputs": [
    {
     "name": "stdout",
     "output_type": "stream",
     "text": [
      "13\n"
     ]
    }
   ],
   "source": [
    "class test:\n",
    "    def __init__(self, a=3, b=4):\n",
    "        self.a = a\n",
    "        self.b = b\n",
    "        self.c = self.add()\n",
    "    \n",
    "    def add(self):\n",
    "        return self.a + self.b\n",
    "\n",
    "class d:\n",
    "    def __init__(self, f):\n",
    "        self.f = f\n",
    "\n",
    "\n",
    "t = test(b=10)\n",
    "print(t.c)"
   ]
  },
  {
   "cell_type": "code",
   "execution_count": 3,
   "metadata": {},
   "outputs": [
    {
     "name": "stdout",
     "output_type": "stream",
     "text": [
      "0\n",
      "3\n",
      "3\n",
      "3\n",
      "3\n",
      "3\n",
      "3\n",
      "3\n",
      "3\n",
      "3\n",
      "3\n",
      "3\n",
      "3\n",
      "3\n",
      "3\n",
      "3\n",
      "3\n",
      "3\n",
      "3\n",
      "3\n",
      "3\n",
      "3\n",
      "3\n",
      "3\n",
      "3\n",
      "3\n",
      "3\n",
      "3\n",
      "3\n",
      "3\n",
      "3\n",
      "3\n",
      "3\n",
      "3\n",
      "3\n",
      "3\n",
      "3\n",
      "3\n",
      "3\n",
      "3\n",
      "3\n",
      "3\n",
      "3\n",
      "3\n",
      "3\n",
      "3\n",
      "3\n",
      "3\n",
      "3\n",
      "3\n",
      "3\n",
      "3\n",
      "3\n",
      "3\n",
      "3\n",
      "3\n",
      "3\n",
      "3\n",
      "3\n",
      "3\n",
      "3\n",
      "3\n",
      "3\n",
      "3\n",
      "3\n",
      "3\n",
      "3\n",
      "3\n",
      "3\n",
      "3\n",
      "3\n",
      "3\n",
      "3\n",
      "3\n",
      "3\n",
      "3\n",
      "3\n",
      "3\n",
      "3\n",
      "3\n",
      "3\n",
      "3\n",
      "3\n",
      "3\n",
      "3\n",
      "3\n",
      "3\n",
      "3\n",
      "3\n",
      "3\n",
      "3\n",
      "3\n",
      "3\n",
      "3\n",
      "3\n",
      "3\n",
      "3\n",
      "3\n",
      "3\n",
      "3\n",
      "3\n"
     ]
    }
   ],
   "source": [
    "f = [test(0, 0)]*100\n",
    "\n",
    "print(f[50].c)\n",
    "\n",
    "f[50].c = 3\n",
    "\n",
    "for i in range(100):\n",
    "    print(f[i].c)\n",
    "\n",
    "\n"
   ]
  },
  {
   "cell_type": "code",
   "execution_count": 4,
   "metadata": {},
   "outputs": [
    {
     "name": "stdout",
     "output_type": "stream",
     "text": [
      "[2]\n",
      "<class 'numpy.int32'>\n"
     ]
    }
   ],
   "source": [
    "print(np.random.choice([1, 2, 3, 4], 1, [0.1, 0.2, 0.3, 0.4]))\n",
    "print(type(np.random.choice([1, 2, 3, 4], 1, [0.1, 0.2, 0.3, 0.4])[0]))"
   ]
  },
  {
   "cell_type": "code",
   "execution_count": 5,
   "metadata": {},
   "outputs": [
    {
     "name": "stdout",
     "output_type": "stream",
     "text": [
      "1\n"
     ]
    }
   ],
   "source": [
    "print(int(7/5))"
   ]
  },
  {
   "cell_type": "code",
   "execution_count": 6,
   "metadata": {},
   "outputs": [
    {
     "name": "stdout",
     "output_type": "stream",
     "text": [
      "[[-2, 5], [0, 1], [4, 2]]\n",
      "[-2, 5]\n",
      "9\n",
      "[[0, 1], [4, 2]]\n",
      "cool\n"
     ]
    }
   ],
   "source": [
    "test_list = [[0, 1], [-2, 5], [4, 2]]\n",
    "\n",
    "\n",
    "test_list.sort(key=lambda x: x[0])\n",
    "\n",
    "def f(k=3):\n",
    "    return print(k)\n",
    "\n",
    "\n",
    "print(test_list)\n",
    "\n",
    "o = []\n",
    "\n",
    "e = [[0, f], [0, f]]\n",
    "\n",
    "p = test_list[0]\n",
    "print(p)\n",
    "\n",
    "p = e[1]\n",
    "p[1](9)\n",
    "\n",
    "test_list.pop(0)\n",
    "\n",
    "print(test_list)\n",
    "\n",
    "if not o:\n",
    "    print(\"cool\")\n"
   ]
  },
  {
   "cell_type": "code",
   "execution_count": 7,
   "metadata": {},
   "outputs": [
    {
     "name": "stdout",
     "output_type": "stream",
     "text": [
      "[0, 2]\n",
      "[0, 1, 2]\n",
      "[[0, 2], [0, 1, 2]]\n"
     ]
    }
   ],
   "source": [
    "a = [[0, 2], [0, 1, 2]]\n",
    "a1 = a[0]\n",
    "a2 = a[1]\n",
    "print(a1)\n",
    "a1, a2 = a2, a1\n",
    "print(a1)\n",
    "print(a)"
   ]
  },
  {
   "cell_type": "code",
   "execution_count": 8,
   "metadata": {},
   "outputs": [
    {
     "name": "stdout",
     "output_type": "stream",
     "text": [
      "2\n"
     ]
    }
   ],
   "source": [
    "b = True\n",
    "k = 1\n",
    "print(b + k)"
   ]
  },
  {
   "cell_type": "code",
   "execution_count": 9,
   "metadata": {},
   "outputs": [
    {
     "name": "stdout",
     "output_type": "stream",
     "text": [
      "[1 2 3 4 5]\n"
     ]
    }
   ],
   "source": [
    "a = np.array([0, 1, 2, 3, 4, 5])\n",
    "b = np.array([1, 1, 1, 1, 1])\n",
    "\n",
    "print(a[0:len(b)]+b)\n",
    "\n"
   ]
  },
  {
   "cell_type": "code",
   "execution_count": 10,
   "metadata": {},
   "outputs": [
    {
     "data": {
      "text/plain": [
       "<BarContainer object of 8 artists>"
      ]
     },
     "execution_count": 10,
     "metadata": {},
     "output_type": "execute_result"
    },
    {
     "data": {
      "image/png": "[encoded data removed]",
      "text/plain": [
       "<Figure size 432x288 with 1 Axes>"
      ]
     },
     "metadata": {
      "needs_background": "light"
     },
     "output_type": "display_data"
    }
   ],
   "source": [
    "a = np.array([10, 0, 2, 3, 4, 12, 3, 5])\n",
    "b = np.array([1, 2, 3, 4, 5, 6, 7, 8])\n",
    "\n",
    "plt.bar(b, a, width=1)"
   ]
  },
  {
   "cell_type": "code",
   "execution_count": 11,
   "metadata": {},
   "outputs": [
    {
     "name": "stdout",
     "output_type": "stream",
     "text": [
      "[8.72238e+05 3.29000e+02 1.12259e+05 ... 2.86000e+02 0.00000e+00\n",
      " 1.69100e+03]\n",
      "[872238. 112259.  23649. ...      0.      0.      0.]\n",
      "[[8.58744547e-01]\n",
      " [1.10522362e-01]\n",
      " [2.32831518e-02]\n",
      " [5.54290434e-03]\n",
      " [1.42658408e-03]\n",
      " [3.32771167e-04]\n",
      " [1.05344718e-04]\n",
      " [3.34740227e-05]\n",
      " [6.89171055e-06]\n",
      " [1.96906016e-06]]\n",
      "[[0]\n",
      " [1]\n",
      " [2]\n",
      " [3]\n",
      " [4]\n",
      " [5]\n",
      " [6]\n",
      " [7]\n",
      " [8]\n",
      " [9]]\n",
      "[872238. 112259.  23649. ...      0.      0.      0.]\n",
      "(18800,)\n"
     ]
    },
    {
     "data": {
      "image/png": "[encoded data removed]",
      "text/plain": [
       "<Figure size 432x288 with 1 Axes>"
      ]
     },
     "metadata": {
      "needs_background": "light"
     },
     "output_type": "display_data"
    }
   ],
   "source": [
    "lines = np.loadtxt(\"test.txt\", delimiter=\" \")\n",
    "total = np.sum(lines[::2])\n",
    "ar = np.argwhere(lines[::2] != 0)\n",
    "freq = lines[ar * 2] / total\n",
    "print(lines)\n",
    "print(lines[::2])\n",
    "print(freq)\n",
    "print(ar)\n",
    "\"\"\"for i in range(len(lines[::2])):\n",
    "    if \"\"\"\n",
    "print(lines[0::2])\n",
    "\n",
    "plt.loglog(ar, freq, \"o\")\n",
    "print(np.shape(lines))\n"
   ]
  },
  {
   "cell_type": "code",
   "execution_count": 12,
   "metadata": {},
   "outputs": [
    {
     "name": "stdout",
     "output_type": "stream",
     "text": [
      "0\n"
     ]
    }
   ],
   "source": [
    "print((-5) % 5)\n"
   ]
  },
  {
   "cell_type": "code",
   "execution_count": 13,
   "metadata": {},
   "outputs": [
    {
     "data": {
      "image/png": "[encoded data removed]",
      "text/plain": [
       "<Figure size 432x288 with 1 Axes>"
      ]
     },
     "metadata": {
      "needs_background": "light"
     },
     "output_type": "display_data"
    }
   ],
   "source": [
    "G = nx.triangular_lattice_graph(10, 10, with_positions=True)\n",
    "pos = {n: G.nodes[n][\"pos\"] for n in G}\n",
    "nx.draw_networkx_edges(G, pos=pos)\n",
    "plt.axis([0, 10, 0, 10])\n",
    "plt.show()\n",
    "\n"
   ]
  },
  {
   "cell_type": "code",
   "execution_count": 35,
   "metadata": {},
   "outputs": [
    {
     "name": "stdout",
     "output_type": "stream",
     "text": [
      "[[0, 1, 4], [3, 0, 4], [1, 2, 5], [4, 1, 5], [3, 4, 7], [6, 3, 7], [4, 5, 8], [7, 4, 8]]\n"
     ]
    },
    {
     "data": {
      "text/plain": [
       "Text(0.5, 1.0, 'Triangular grid')"
      ]
     },
     "execution_count": 35,
     "metadata": {},
     "output_type": "execute_result"
    },
    {
     "data": {
      "image/png": "[encoded data removed]",
      "text/plain": [
       "<Figure size 432x288 with 1 Axes>"
      ]
     },
     "metadata": {
      "needs_background": "light"
     },
     "output_type": "display_data"
    }
   ],
   "source": [
    "\n",
    "\n",
    "L1, L2 = 3, 3\n",
    "\n",
    "\n",
    "\n",
    "def conv(n):\n",
    "      \"\"\"function that converts the index n into coordinates x and y, with x being horisontal. Assuming equilateral triangle of sides 1.\n",
    "\n",
    "      Args:\n",
    "          n (int): index of particle in lattice\n",
    "\n",
    "      Returns:\n",
    "          tuple: x and y coordinates\n",
    "      \"\"\"\n",
    "      x = []\n",
    "      y = []\n",
    "      for i in n:\n",
    "          x.append(i % L1 - 0.5 * int(i / L1))\n",
    "          y.append(int(i/L1) * np.sqrt(3)/2)\n",
    "        \n",
    "      return x, y\n",
    "\n",
    "ind = np.array([i for i in range(L1*L2)])\n",
    "x = conv(ind)[0]\n",
    "y = conv(ind)[1]\n",
    "\n",
    "\n",
    "triangles = []\n",
    "\n",
    "for j in range(L2-1):\n",
    "    for i in range(L1-1):\n",
    "        i = i + j * L1\n",
    "        triangles.append([i, i+1, i+L1+1])\n",
    "        triangles.append([i+L1, i, i+1+L1])\n",
    "triang = mtri.Triangulation(x, y, triangles)\n",
    "# Plot the triangulation.\n",
    "print(triangles)\n",
    "\n",
    "plt.triplot(triang, 'r-', alpha=0.6, linewidth=0.2)\n",
    "plt.title('Triangular grid')\n"
   ]
  },
  {
   "cell_type": "code",
   "execution_count": null,
   "metadata": {},
   "outputs": [],
   "source": []
  }
 ],
 "metadata": {
  "interpreter": {
   "hash": "e228c522185e718f10489acf78f6ffebd5fbea5a3e998ef0433a5447e0d6df9b"
  },
  "kernelspec": {
   "display_name": "Python 3.8.5 ('base')",
   "language": "python",
   "name": "python3"
  },
  "language_info": {
   "codemirror_mode": {
    "name": "ipython",
    "version": 3
   },
   "file_extension": ".py",
   "mimetype": "text/x-python",
   "name": "python",
   "nbconvert_exporter": "python",
   "pygments_lexer": "ipython3",
   "version": "3.8.5"
  },
  "orig_nbformat": 4
 },
 "nbformat": 4,
 "nbformat_minor": 2
}
